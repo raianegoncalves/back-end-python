{
  "nbformat": 4,
  "nbformat_minor": 0,
  "metadata": {
    "colab": {
      "provenance": [],
      "authorship_tag": "ABX9TyONnYsvZjc+DKIGIerj1ZqG",
      "include_colab_link": true
    },
    "kernelspec": {
      "name": "python3",
      "display_name": "Python 3"
    },
    "language_info": {
      "name": "python"
    }
  },
  "cells": [
    {
      "cell_type": "markdown",
      "metadata": {
        "id": "view-in-github",
        "colab_type": "text"
      },
      "source": [
        "<a href=\"https://colab.research.google.com/github/raianegoncalves/back-end-python/blob/main/desafio_individual_probabilidade_amostragem.ipynb\" target=\"_parent\"><img src=\"https://colab.research.google.com/assets/colab-badge.svg\" alt=\"Open In Colab\"/></a>"
      ]
    },
    {
      "cell_type": "markdown",
      "source": [
        "Importando bibliotecas"
      ],
      "metadata": {
        "id": "YYKwU_DTt8pe"
      }
    },
    {
      "cell_type": "code",
      "source": [
        "### bibliotecas base\n",
        "import pandas as pd\n",
        "import numpy as np\n",
        "import json\n",
        "### bibliotecas para visualizacao de dados\n",
        "import seaborn as sns\n",
        "import matplotlib.pyplot as plt\n",
        "### bibliotecas para estatística\n",
        "import scipy.stats as stat"
      ],
      "metadata": {
        "id": "tpFFYFR1vQ8-"
      },
      "execution_count": 2,
      "outputs": []
    },
    {
      "cell_type": "markdown",
      "source": [
        "Importando df e pedindo para fazer separação a partir do \",\""
      ],
      "metadata": {
        "id": "4MrsTQCav8nF"
      }
    },
    {
      "cell_type": "code",
      "source": [
        "df  = pd.read_csv('populacao_brasileira.csv', sep=',')\n",
        "df.head(5)"
      ],
      "metadata": {
        "colab": {
          "base_uri": "https://localhost:8080/",
          "height": 206
        },
        "id": "5BAjCEstwElP",
        "outputId": "7eb386c9-680c-414a-b3d1-aa1e988b0593"
      },
      "execution_count": 4,
      "outputs": [
        {
          "output_type": "execute_result",
          "data": {
            "text/plain": [
              "   Unnamed: 0 estado  idade escolaridade nível de proficiência em inglês  \\\n",
              "0           0     MA     56  Fundamental                   Intermediário   \n",
              "1           1     BA     46     Superior                          Básico   \n",
              "2           2     AM     32  Fundamental                   Intermediário   \n",
              "3           3     CE     60     Superior                          Básico   \n",
              "4           4     SE     25  Fundamental                        Avançado   \n",
              "\n",
              "     renda sexo  \n",
              "0  4006.29    F  \n",
              "1  2423.11    M  \n",
              "2  3835.69    M  \n",
              "3  1870.29    M  \n",
              "4  3529.80    M  "
            ],
            "text/html": [
              "\n",
              "  <div id=\"df-8107ddb4-31fe-45ca-95c4-7335098811b8\" class=\"colab-df-container\">\n",
              "    <div>\n",
              "<style scoped>\n",
              "    .dataframe tbody tr th:only-of-type {\n",
              "        vertical-align: middle;\n",
              "    }\n",
              "\n",
              "    .dataframe tbody tr th {\n",
              "        vertical-align: top;\n",
              "    }\n",
              "\n",
              "    .dataframe thead th {\n",
              "        text-align: right;\n",
              "    }\n",
              "</style>\n",
              "<table border=\"1\" class=\"dataframe\">\n",
              "  <thead>\n",
              "    <tr style=\"text-align: right;\">\n",
              "      <th></th>\n",
              "      <th>Unnamed: 0</th>\n",
              "      <th>estado</th>\n",
              "      <th>idade</th>\n",
              "      <th>escolaridade</th>\n",
              "      <th>nível de proficiência em inglês</th>\n",
              "      <th>renda</th>\n",
              "      <th>sexo</th>\n",
              "    </tr>\n",
              "  </thead>\n",
              "  <tbody>\n",
              "    <tr>\n",
              "      <th>0</th>\n",
              "      <td>0</td>\n",
              "      <td>MA</td>\n",
              "      <td>56</td>\n",
              "      <td>Fundamental</td>\n",
              "      <td>Intermediário</td>\n",
              "      <td>4006.29</td>\n",
              "      <td>F</td>\n",
              "    </tr>\n",
              "    <tr>\n",
              "      <th>1</th>\n",
              "      <td>1</td>\n",
              "      <td>BA</td>\n",
              "      <td>46</td>\n",
              "      <td>Superior</td>\n",
              "      <td>Básico</td>\n",
              "      <td>2423.11</td>\n",
              "      <td>M</td>\n",
              "    </tr>\n",
              "    <tr>\n",
              "      <th>2</th>\n",
              "      <td>2</td>\n",
              "      <td>AM</td>\n",
              "      <td>32</td>\n",
              "      <td>Fundamental</td>\n",
              "      <td>Intermediário</td>\n",
              "      <td>3835.69</td>\n",
              "      <td>M</td>\n",
              "    </tr>\n",
              "    <tr>\n",
              "      <th>3</th>\n",
              "      <td>3</td>\n",
              "      <td>CE</td>\n",
              "      <td>60</td>\n",
              "      <td>Superior</td>\n",
              "      <td>Básico</td>\n",
              "      <td>1870.29</td>\n",
              "      <td>M</td>\n",
              "    </tr>\n",
              "    <tr>\n",
              "      <th>4</th>\n",
              "      <td>4</td>\n",
              "      <td>SE</td>\n",
              "      <td>25</td>\n",
              "      <td>Fundamental</td>\n",
              "      <td>Avançado</td>\n",
              "      <td>3529.80</td>\n",
              "      <td>M</td>\n",
              "    </tr>\n",
              "  </tbody>\n",
              "</table>\n",
              "</div>\n",
              "    <div class=\"colab-df-buttons\">\n",
              "\n",
              "  <div class=\"colab-df-container\">\n",
              "    <button class=\"colab-df-convert\" onclick=\"convertToInteractive('df-8107ddb4-31fe-45ca-95c4-7335098811b8')\"\n",
              "            title=\"Convert this dataframe to an interactive table.\"\n",
              "            style=\"display:none;\">\n",
              "\n",
              "  <svg xmlns=\"http://www.w3.org/2000/svg\" height=\"24px\" viewBox=\"0 -960 960 960\">\n",
              "    <path d=\"M120-120v-720h720v720H120Zm60-500h600v-160H180v160Zm220 220h160v-160H400v160Zm0 220h160v-160H400v160ZM180-400h160v-160H180v160Zm440 0h160v-160H620v160ZM180-180h160v-160H180v160Zm440 0h160v-160H620v160Z\"/>\n",
              "  </svg>\n",
              "    </button>\n",
              "\n",
              "  <style>\n",
              "    .colab-df-container {\n",
              "      display:flex;\n",
              "      gap: 12px;\n",
              "    }\n",
              "\n",
              "    .colab-df-convert {\n",
              "      background-color: #E8F0FE;\n",
              "      border: none;\n",
              "      border-radius: 50%;\n",
              "      cursor: pointer;\n",
              "      display: none;\n",
              "      fill: #1967D2;\n",
              "      height: 32px;\n",
              "      padding: 0 0 0 0;\n",
              "      width: 32px;\n",
              "    }\n",
              "\n",
              "    .colab-df-convert:hover {\n",
              "      background-color: #E2EBFA;\n",
              "      box-shadow: 0px 1px 2px rgba(60, 64, 67, 0.3), 0px 1px 3px 1px rgba(60, 64, 67, 0.15);\n",
              "      fill: #174EA6;\n",
              "    }\n",
              "\n",
              "    .colab-df-buttons div {\n",
              "      margin-bottom: 4px;\n",
              "    }\n",
              "\n",
              "    [theme=dark] .colab-df-convert {\n",
              "      background-color: #3B4455;\n",
              "      fill: #D2E3FC;\n",
              "    }\n",
              "\n",
              "    [theme=dark] .colab-df-convert:hover {\n",
              "      background-color: #434B5C;\n",
              "      box-shadow: 0px 1px 3px 1px rgba(0, 0, 0, 0.15);\n",
              "      filter: drop-shadow(0px 1px 2px rgba(0, 0, 0, 0.3));\n",
              "      fill: #FFFFFF;\n",
              "    }\n",
              "  </style>\n",
              "\n",
              "    <script>\n",
              "      const buttonEl =\n",
              "        document.querySelector('#df-8107ddb4-31fe-45ca-95c4-7335098811b8 button.colab-df-convert');\n",
              "      buttonEl.style.display =\n",
              "        google.colab.kernel.accessAllowed ? 'block' : 'none';\n",
              "\n",
              "      async function convertToInteractive(key) {\n",
              "        const element = document.querySelector('#df-8107ddb4-31fe-45ca-95c4-7335098811b8');\n",
              "        const dataTable =\n",
              "          await google.colab.kernel.invokeFunction('convertToInteractive',\n",
              "                                                    [key], {});\n",
              "        if (!dataTable) return;\n",
              "\n",
              "        const docLinkHtml = 'Like what you see? Visit the ' +\n",
              "          '<a target=\"_blank\" href=https://colab.research.google.com/notebooks/data_table.ipynb>data table notebook</a>'\n",
              "          + ' to learn more about interactive tables.';\n",
              "        element.innerHTML = '';\n",
              "        dataTable['output_type'] = 'display_data';\n",
              "        await google.colab.output.renderOutput(dataTable, element);\n",
              "        const docLink = document.createElement('div');\n",
              "        docLink.innerHTML = docLinkHtml;\n",
              "        element.appendChild(docLink);\n",
              "      }\n",
              "    </script>\n",
              "  </div>\n",
              "\n",
              "\n",
              "<div id=\"df-43ad9220-b325-484a-b48e-783449a605aa\">\n",
              "  <button class=\"colab-df-quickchart\" onclick=\"quickchart('df-43ad9220-b325-484a-b48e-783449a605aa')\"\n",
              "            title=\"Suggest charts\"\n",
              "            style=\"display:none;\">\n",
              "\n",
              "<svg xmlns=\"http://www.w3.org/2000/svg\" height=\"24px\"viewBox=\"0 0 24 24\"\n",
              "     width=\"24px\">\n",
              "    <g>\n",
              "        <path d=\"M19 3H5c-1.1 0-2 .9-2 2v14c0 1.1.9 2 2 2h14c1.1 0 2-.9 2-2V5c0-1.1-.9-2-2-2zM9 17H7v-7h2v7zm4 0h-2V7h2v10zm4 0h-2v-4h2v4z\"/>\n",
              "    </g>\n",
              "</svg>\n",
              "  </button>\n",
              "\n",
              "<style>\n",
              "  .colab-df-quickchart {\n",
              "      --bg-color: #E8F0FE;\n",
              "      --fill-color: #1967D2;\n",
              "      --hover-bg-color: #E2EBFA;\n",
              "      --hover-fill-color: #174EA6;\n",
              "      --disabled-fill-color: #AAA;\n",
              "      --disabled-bg-color: #DDD;\n",
              "  }\n",
              "\n",
              "  [theme=dark] .colab-df-quickchart {\n",
              "      --bg-color: #3B4455;\n",
              "      --fill-color: #D2E3FC;\n",
              "      --hover-bg-color: #434B5C;\n",
              "      --hover-fill-color: #FFFFFF;\n",
              "      --disabled-bg-color: #3B4455;\n",
              "      --disabled-fill-color: #666;\n",
              "  }\n",
              "\n",
              "  .colab-df-quickchart {\n",
              "    background-color: var(--bg-color);\n",
              "    border: none;\n",
              "    border-radius: 50%;\n",
              "    cursor: pointer;\n",
              "    display: none;\n",
              "    fill: var(--fill-color);\n",
              "    height: 32px;\n",
              "    padding: 0;\n",
              "    width: 32px;\n",
              "  }\n",
              "\n",
              "  .colab-df-quickchart:hover {\n",
              "    background-color: var(--hover-bg-color);\n",
              "    box-shadow: 0 1px 2px rgba(60, 64, 67, 0.3), 0 1px 3px 1px rgba(60, 64, 67, 0.15);\n",
              "    fill: var(--button-hover-fill-color);\n",
              "  }\n",
              "\n",
              "  .colab-df-quickchart-complete:disabled,\n",
              "  .colab-df-quickchart-complete:disabled:hover {\n",
              "    background-color: var(--disabled-bg-color);\n",
              "    fill: var(--disabled-fill-color);\n",
              "    box-shadow: none;\n",
              "  }\n",
              "\n",
              "  .colab-df-spinner {\n",
              "    border: 2px solid var(--fill-color);\n",
              "    border-color: transparent;\n",
              "    border-bottom-color: var(--fill-color);\n",
              "    animation:\n",
              "      spin 1s steps(1) infinite;\n",
              "  }\n",
              "\n",
              "  @keyframes spin {\n",
              "    0% {\n",
              "      border-color: transparent;\n",
              "      border-bottom-color: var(--fill-color);\n",
              "      border-left-color: var(--fill-color);\n",
              "    }\n",
              "    20% {\n",
              "      border-color: transparent;\n",
              "      border-left-color: var(--fill-color);\n",
              "      border-top-color: var(--fill-color);\n",
              "    }\n",
              "    30% {\n",
              "      border-color: transparent;\n",
              "      border-left-color: var(--fill-color);\n",
              "      border-top-color: var(--fill-color);\n",
              "      border-right-color: var(--fill-color);\n",
              "    }\n",
              "    40% {\n",
              "      border-color: transparent;\n",
              "      border-right-color: var(--fill-color);\n",
              "      border-top-color: var(--fill-color);\n",
              "    }\n",
              "    60% {\n",
              "      border-color: transparent;\n",
              "      border-right-color: var(--fill-color);\n",
              "    }\n",
              "    80% {\n",
              "      border-color: transparent;\n",
              "      border-right-color: var(--fill-color);\n",
              "      border-bottom-color: var(--fill-color);\n",
              "    }\n",
              "    90% {\n",
              "      border-color: transparent;\n",
              "      border-bottom-color: var(--fill-color);\n",
              "    }\n",
              "  }\n",
              "</style>\n",
              "\n",
              "  <script>\n",
              "    async function quickchart(key) {\n",
              "      const quickchartButtonEl =\n",
              "        document.querySelector('#' + key + ' button');\n",
              "      quickchartButtonEl.disabled = true;  // To prevent multiple clicks.\n",
              "      quickchartButtonEl.classList.add('colab-df-spinner');\n",
              "      try {\n",
              "        const charts = await google.colab.kernel.invokeFunction(\n",
              "            'suggestCharts', [key], {});\n",
              "      } catch (error) {\n",
              "        console.error('Error during call to suggestCharts:', error);\n",
              "      }\n",
              "      quickchartButtonEl.classList.remove('colab-df-spinner');\n",
              "      quickchartButtonEl.classList.add('colab-df-quickchart-complete');\n",
              "    }\n",
              "    (() => {\n",
              "      let quickchartButtonEl =\n",
              "        document.querySelector('#df-43ad9220-b325-484a-b48e-783449a605aa button');\n",
              "      quickchartButtonEl.style.display =\n",
              "        google.colab.kernel.accessAllowed ? 'block' : 'none';\n",
              "    })();\n",
              "  </script>\n",
              "</div>\n",
              "\n",
              "    </div>\n",
              "  </div>\n"
            ],
            "application/vnd.google.colaboratory.intrinsic+json": {
              "type": "dataframe",
              "variable_name": "df",
              "summary": "{\n  \"name\": \"df\",\n  \"rows\": 1000,\n  \"fields\": [\n    {\n      \"column\": \"Unnamed: 0\",\n      \"properties\": {\n        \"dtype\": \"number\",\n        \"std\": 288,\n        \"min\": 0,\n        \"max\": 999,\n        \"num_unique_values\": 1000,\n        \"samples\": [\n          521,\n          737,\n          740\n        ],\n        \"semantic_type\": \"\",\n        \"description\": \"\"\n      }\n    },\n    {\n      \"column\": \"estado\",\n      \"properties\": {\n        \"dtype\": \"category\",\n        \"num_unique_values\": 27,\n        \"samples\": [\n          \"AC\",\n          \"PA\",\n          \"SC\"\n        ],\n        \"semantic_type\": \"\",\n        \"description\": \"\"\n      }\n    },\n    {\n      \"column\": \"idade\",\n      \"properties\": {\n        \"dtype\": \"number\",\n        \"std\": 13,\n        \"min\": 18,\n        \"max\": 64,\n        \"num_unique_values\": 47,\n        \"samples\": [\n          24,\n          48,\n          54\n        ],\n        \"semantic_type\": \"\",\n        \"description\": \"\"\n      }\n    },\n    {\n      \"column\": \"escolaridade\",\n      \"properties\": {\n        \"dtype\": \"category\",\n        \"num_unique_values\": 4,\n        \"samples\": [\n          \"Superior\",\n          \"P\\u00f3s-gradua\\u00e7\\u00e3o\",\n          \"Fundamental\"\n        ],\n        \"semantic_type\": \"\",\n        \"description\": \"\"\n      }\n    },\n    {\n      \"column\": \"n\\u00edvel de profici\\u00eancia em ingl\\u00eas\",\n      \"properties\": {\n        \"dtype\": \"category\",\n        \"num_unique_values\": 3,\n        \"samples\": [\n          \"Intermedi\\u00e1rio\",\n          \"B\\u00e1sico\",\n          \"Avan\\u00e7ado\"\n        ],\n        \"semantic_type\": \"\",\n        \"description\": \"\"\n      }\n    },\n    {\n      \"column\": \"renda\",\n      \"properties\": {\n        \"dtype\": \"number\",\n        \"std\": 996.572239312141,\n        \"min\": 103.74,\n        \"max\": 5632.38,\n        \"num_unique_values\": 998,\n        \"samples\": [\n          2752.82,\n          4218.76,\n          2244.62\n        ],\n        \"semantic_type\": \"\",\n        \"description\": \"\"\n      }\n    },\n    {\n      \"column\": \"sexo\",\n      \"properties\": {\n        \"dtype\": \"category\",\n        \"num_unique_values\": 2,\n        \"samples\": [\n          \"M\",\n          \"F\"\n        ],\n        \"semantic_type\": \"\",\n        \"description\": \"\"\n      }\n    }\n  ]\n}"
            }
          },
          "metadata": {},
          "execution_count": 4
        }
      ]
    },
    {
      "cell_type": "code",
      "source": [
        "#Remover a coluna 'Unnamed: 0'\n",
        "df = df.drop(columns=['Unnamed: 0'])\n",
        "df.columns"
      ],
      "metadata": {
        "colab": {
          "base_uri": "https://localhost:8080/"
        },
        "id": "dR8Nb3rG4hxw",
        "outputId": "02165da2-3af6-4f8d-d2fa-c0401b6e6260"
      },
      "execution_count": 6,
      "outputs": [
        {
          "output_type": "execute_result",
          "data": {
            "text/plain": [
              "Index(['estado', 'idade', 'escolaridade', 'nível de proficiência em inglês',\n",
              "       'renda', 'sexo'],\n",
              "      dtype='object')"
            ]
          },
          "metadata": {},
          "execution_count": 6
        }
      ]
    },
    {
      "cell_type": "code",
      "source": [
        "#renomear colunas\n",
        "df = df.rename(columns={\n",
        "    'estado': 'Estado',\n",
        "    'idade': 'Idade',\n",
        "    'escolaridade': 'Escolaridade',\n",
        "    'nível de proficiência em inglês': 'Proficiência Inglês',\n",
        "    'renda': 'Renda',\n",
        "    'sexo': 'Sexo'\n",
        "})\n",
        "\n",
        "df.columns"
      ],
      "metadata": {
        "colab": {
          "base_uri": "https://localhost:8080/"
        },
        "id": "MxygOUAl8Far",
        "outputId": "f0382c8f-9bcd-45f5-eb7e-7605f09f0955"
      },
      "execution_count": 7,
      "outputs": [
        {
          "output_type": "execute_result",
          "data": {
            "text/plain": [
              "Index(['Estado', 'Idade', 'Escolaridade', 'Proficiência Inglês', 'Renda',\n",
              "       'Sexo'],\n",
              "      dtype='object')"
            ]
          },
          "metadata": {},
          "execution_count": 7
        }
      ]
    },
    {
      "cell_type": "markdown",
      "source": [
        "1- Considere pessoas fluentes em inglês, qual a probabilidade\n",
        "complementar? Ou seja, qual a probabilidade de escolhermos uma\n",
        "pessoa aleatória e ela não ser fluente em inglês. Considere fluente\n"
      ],
      "metadata": {
        "id": "ei2CKxw5t_lf"
      }
    },
    {
      "cell_type": "code",
      "source": [
        "# Primeiro, verificar quais são os valores possíveis nessa coluna\n",
        "print(df['Proficiência Inglês'].unique())\n",
        "\n",
        "# Contar o número total de pessoas e o número de pessoas fluentes em inglês\n",
        "total_pessoas = len(df)\n",
        "pessoas_avancado = df[df['Proficiência Inglês'] == 'Avançado'].shape[0]"
      ],
      "metadata": {
        "colab": {
          "base_uri": "https://localhost:8080/"
        },
        "id": "cky2yTxJwAtz",
        "outputId": "e7068792-a5fa-4620-8b46-1e423a28c490"
      },
      "execution_count": 8,
      "outputs": [
        {
          "output_type": "stream",
          "name": "stdout",
          "text": [
            "['Intermediário' 'Básico' 'Avançado']\n"
          ]
        }
      ]
    },
    {
      "cell_type": "code",
      "source": [
        "# Calcular a probabilidade de uma pessoa ser fluente\n",
        "probabilidade_avancado = pessoas_avancado / total_pessoas\n",
        "\n",
        "# Calcular a probabilidade complementar\n",
        "probabilidade_complementar = 1 - probabilidade_avancado\n",
        "\n",
        "print(f'Probabilidade de escolher uma pessoa que não é avançado em inglês: {probabilidade_complementar:.2f}')"
      ],
      "metadata": {
        "colab": {
          "base_uri": "https://localhost:8080/"
        },
        "id": "TDcJT8b97kDC",
        "outputId": "148e9b91-e3e6-47a6-dc1e-92612356d207"
      },
      "execution_count": 9,
      "outputs": [
        {
          "output_type": "stream",
          "name": "stdout",
          "text": [
            "Probabilidade de escolher uma pessoa que não é avançado em inglês: 0.66\n"
          ]
        }
      ]
    },
    {
      "cell_type": "markdown",
      "source": [
        "2- Se uma pessoa escolhida aleatoriamente for de Alagoas ou do Pará,\n",
        "qual é a probabilidade de ela ter uma renda superior a 5 mil reais?"
      ],
      "metadata": {
        "id": "lG_g51DruB2D"
      }
    },
    {
      "cell_type": "code",
      "source": [
        "#Primeiro, verificar quais são os valores possíveis nessa coluna\n",
        "print(df['Estado'].unique())"
      ],
      "metadata": {
        "id": "Z8Jfu7NBuE3y",
        "colab": {
          "base_uri": "https://localhost:8080/"
        },
        "outputId": "0c236089-1fa9-4a30-fc1b-ba04486ac31a"
      },
      "execution_count": 10,
      "outputs": [
        {
          "output_type": "stream",
          "name": "stdout",
          "text": [
            "['MA' 'BA' 'AM' 'CE' 'SE' 'DF' 'PI' 'AP' 'AC' 'SC' 'SP' 'GO' 'RO' 'PA'\n",
            " 'MS' 'RN' 'RS' 'RR' 'PR' 'MG' 'MT' 'TO' 'PB' 'PE' 'RJ' 'AL' 'ES']\n"
          ]
        }
      ]
    },
    {
      "cell_type": "code",
      "source": [
        "#Filtrar as pessoas dos estados AL e PA\n",
        "df_estado = df[df['Estado'].isin(['AL', 'PA'])]\n",
        "\n",
        "#Contar o número total de pessoas desses estados\n",
        "total_estado_pessoas = len(df_estado)\n",
        "total_estado_pessoas"
      ],
      "metadata": {
        "colab": {
          "base_uri": "https://localhost:8080/"
        },
        "id": "ffyOslwp8__2",
        "outputId": "7bfa5602-7562-4446-9ffc-f10f8e383e51"
      },
      "execution_count": 11,
      "outputs": [
        {
          "output_type": "execute_result",
          "data": {
            "text/plain": [
              "79"
            ]
          },
          "metadata": {},
          "execution_count": 11
        }
      ]
    },
    {
      "cell_type": "code",
      "source": [
        "#Contar o número de pessoas com renda superior a 5 mil reais\n",
        "pessoas_renda_alta = df_estado[df_estado['Renda'] > 5000].shape[0]\n",
        "\n",
        "\n",
        "#Calcular a probabilidade\n",
        "probabilidade_renda_alta = pessoas_renda_alta / total_estado_pessoas\n",
        "print(f'Probabilidade de uma pessoa dos estados AL ou PA ter uma renda superior a 5 mil reais: {probabilidade_renda_alta:.2f}')"
      ],
      "metadata": {
        "colab": {
          "base_uri": "https://localhost:8080/"
        },
        "id": "Wazyi-Bb-NWn",
        "outputId": "48fc558e-c60d-48f3-a283-fb95d0f8528f"
      },
      "execution_count": 12,
      "outputs": [
        {
          "output_type": "stream",
          "name": "stdout",
          "text": [
            "Probabilidade de uma pessoa dos estados AL ou PA ter uma renda superior a 5 mil reais: 0.05\n"
          ]
        }
      ]
    },
    {
      "cell_type": "markdown",
      "source": [
        "3- Descubra a probabilidade de uma pessoa ter ensino superior completo\n",
        "no estado do Amazonas. Qual a probabilidade da quinta pessoa que\n",
        "você conversar, que é amazonense, ter ensino superior completo?"
      ],
      "metadata": {
        "id": "h_NMLpMguKLw"
      }
    },
    {
      "cell_type": "code",
      "source": [
        "#Filtrar pessoas de AM\n",
        "df_am = df[df['Estado'] == 'AM']\n",
        "\n",
        "#Contar total de pessoas em AM\n",
        "total_am = len(df_am)"
      ],
      "metadata": {
        "id": "Srv9YIDRuMlS"
      },
      "execution_count": 13,
      "outputs": []
    },
    {
      "cell_type": "code",
      "source": [
        "#Contar o número de pessoas com ensino superior completo no Amazonas\n",
        "pessoas_superior = df_am[df_am['Escolaridade'] == 'Superior'].shape[0]\n",
        "\n",
        "#Calcular a probabilidade\n",
        "probabilidade_superior_amazonas = pessoas_superior / total_am\n",
        "\n",
        "print(f'Probabilidade de uma pessoa no estado do Amazonas ter ensino superior completo: {probabilidade_superior_amazonas:.2f}')"
      ],
      "metadata": {
        "colab": {
          "base_uri": "https://localhost:8080/"
        },
        "id": "8gJWa-t3FCc5",
        "outputId": "ffa88eb9-ddb1-40a9-b719-387714764344"
      },
      "execution_count": 14,
      "outputs": [
        {
          "output_type": "stream",
          "name": "stdout",
          "text": [
            "Probabilidade de uma pessoa no estado do Amazonas ter ensino superior completo: 0.24\n"
          ]
        }
      ]
    },
    {
      "cell_type": "code",
      "source": [
        "# Para calcular a probabilidade de a quinta pessoa que você conversar ser amazonense e ter ensino superior completo:\n",
        "if total_am >= 5:\n",
        "    quinta_pessoa = df_am.iloc[4]  # Pega a quinta pessoa (índice 4)\n",
        "    tem_superior = quinta_pessoa['Escolaridade'] == 'Superior'\n",
        "    probabilidade_quinta_pessoa_superior = 1 if tem_superior else 0\n",
        "else:\n",
        "    probabilidade_quinta_pessoa_superior = None  # Menos de 5 pessoas no Amazonas\n",
        "\n",
        "print(f'Probabilidade de a quinta pessoa que você conversar, que é amazonense, ter ensino superior completo: {probabilidade_quinta_pessoa_superior}')"
      ],
      "metadata": {
        "colab": {
          "base_uri": "https://localhost:8080/"
        },
        "id": "jVwohuKtFjFk",
        "outputId": "df349969-6a17-42cc-83b4-458e5b609413"
      },
      "execution_count": 15,
      "outputs": [
        {
          "output_type": "stream",
          "name": "stdout",
          "text": [
            "Probabilidade de a quinta pessoa que você conversar, que é amazonense, ter ensino superior completo: 0\n"
          ]
        }
      ]
    },
    {
      "cell_type": "markdown",
      "source": [
        "4- Considerando a renda das pessoas do nosso conjunto, podemos dizer\n",
        "que a renda de uma pessoa brasileira está na sua maioria em que faixa\n",
        "(faça faixa de 1.500 reais)? Qual é a sua função densidade de\n",
        "probabilidade?"
      ],
      "metadata": {
        "id": "Ic2UCQILuM_6"
      }
    },
    {
      "cell_type": "code",
      "source": [
        "#Definir faixas de renda\n",
        "faixa = 1500\n",
        "faixas = np.arange(0, df['Renda'].max() + faixa, faixa)\n",
        "df['Faixa'] = pd.cut(df['Renda'], bins=faixas)\n",
        "\n",
        "#Contar o número de pessoas em cada faixa\n",
        "contagem_faixa = df['Faixa'].value_counts().sort_index()\n",
        "\n",
        "print(\"Número de pessoas em cada faixa de renda:\")\n",
        "print(contagem_faixa)\n",
        "\n",
        "# Calcular a densidade de probabilidade\n",
        "kde = stat.gaussian_kde(df['Renda'])\n",
        "x = np.linspace(df['Renda'].min(), df['Renda'].max(), 1000)\n",
        "pdf = kde(x)"
      ],
      "metadata": {
        "id": "7vYX9xhOuOlh",
        "colab": {
          "base_uri": "https://localhost:8080/"
        },
        "outputId": "16978be7-c08e-40bf-81c6-71d68dc52b40"
      },
      "execution_count": 16,
      "outputs": [
        {
          "output_type": "stream",
          "name": "stdout",
          "text": [
            "Número de pessoas em cada faixa de renda:\n",
            "Faixa\n",
            "(0.0, 1500.0]        55\n",
            "(1500.0, 3000.0]    414\n",
            "(3000.0, 4500.0]    442\n",
            "(4500.0, 6000.0]     89\n",
            "Name: count, dtype: int64\n"
          ]
        }
      ]
    },
    {
      "cell_type": "code",
      "source": [
        "# Plotar gráfico para a função densidade de probabilidade\n",
        "plt.figure(figsize=(10, 6))\n",
        "plt.plot(x, pdf, label='Densidade de Probabilidade')\n",
        "plt.fill_between(x, pdf, alpha=0.5)\n",
        "plt.xlabel('Renda')\n",
        "plt.ylabel('Densidade')\n",
        "plt.title('Função Densidade de Probabilidade da Renda')\n",
        "plt.legend()\n",
        "plt.grid(True)\n",
        "plt.show()"
      ],
      "metadata": {
        "colab": {
          "base_uri": "https://localhost:8080/",
          "height": 564
        },
        "id": "uW4Z5UBvHIMH",
        "outputId": "be7a2c7f-4fd6-4aa1-aa9c-b0041fd20bf7"
      },
      "execution_count": 17,
      "outputs": [
        {
          "output_type": "display_data",
          "data": {
            "text/plain": [
              "<Figure size 1000x600 with 1 Axes>"
            ],
            "image/png": "[encoded data removed]"
          },
          "metadata": {}
        }
      ]
    },
    {
      "cell_type": "markdown",
      "source": [
        "5- Calcule a média e a variância da renda da amostra. Depois faça a\n",
        "distribuição normal, inclua o gráfico."
      ],
      "metadata": {
        "id": "S4TGSyDMuPGv"
      }
    },
    {
      "cell_type": "code",
      "source": [
        "# Calcular a média e a variância da renda\n",
        "media_renda = df['Renda'].mean() #mean() calcula a média\n",
        "variancia_renda = df['Renda'].var() #var() calcula a variância.\n",
        "\n",
        "print(f'Média da renda: {media_renda:.2f}')\n",
        "print(f'Variância da renda: {variancia_renda:.2f}')\n",
        "\n",
        "# Gerar a distribuição normal com base na média e variância\n",
        "# Definir o intervalo de valores\n",
        "x = np.linspace(df['Renda'].min(), df['Renda'].max(), 1000) #Intervalo de Valores: np.linspace cria uma gama de valores para plotagem.\n",
        "# Gerar a distribuição normal\n",
        "pdf = stat.norm.pdf(x, loc=media_renda, scale=np.sqrt(variancia_renda)) #Distribuição Normal: stat.norm.pdf calcula a densidade da distribuição normal com a média e o desvio padrão (raiz quadrada da variância)."
      ],
      "metadata": {
        "id": "s-4p7Nt5uQtE",
        "colab": {
          "base_uri": "https://localhost:8080/"
        },
        "outputId": "ad8629c7-a01a-4dfc-d48a-b68593ca4693"
      },
      "execution_count": 18,
      "outputs": [
        {
          "output_type": "stream",
          "name": "stdout",
          "text": [
            "Média da renda: 3082.54\n",
            "Variância da renda: 993156.23\n"
          ]
        }
      ]
    },
    {
      "cell_type": "code",
      "source": [
        "# Plotar o gráfico de distribuição normal e a renda da amostra\n",
        "plt.figure(figsize=(10, 6))\n",
        "plt.plot(x, pdf, label='Distribuição Normal', color='blue')\n",
        "plt.hist(df['Renda'], bins=10, density=True, alpha=0.5, color='orange', edgecolor='black', label='Histograma da Renda')\n",
        "plt.xlabel('Renda')\n",
        "plt.ylabel('Densidade')\n",
        "plt.title('Distribuição Normal da Renda com Histograma da Amostra')\n",
        "plt.legend()\n",
        "plt.grid(True)\n",
        "plt.show()"
      ],
      "metadata": {
        "colab": {
          "base_uri": "https://localhost:8080/",
          "height": 564
        },
        "id": "OilR0KbGHYOK",
        "outputId": "3bf10238-0754-4faa-e899-b4e3c9b7c9af"
      },
      "execution_count": 19,
      "outputs": [
        {
          "output_type": "display_data",
          "data": {
            "text/plain": [
              "<Figure size 1000x600 with 1 Axes>"
            ],
            "image/png": "[encoded data removed]"
          },
          "metadata": {}
        }
      ]
    },
    {
      "cell_type": "markdown",
      "source": [
        "6 - Primeiro considere a probabilidade encontrada no nosso conjunto de\n",
        "pessoas com escolaridade de pós-graduação. Considerando a amostra\n",
        "de população brasileira com 1 milhão de habitantes, qual a\n",
        "probabilidade de encontrarmos 243 mil pessoas com pós-graduação?"
      ],
      "metadata": {
        "id": "N0OH-DrOuRNI"
      }
    },
    {
      "cell_type": "code",
      "source": [
        "# Calcular a probabilidade de ter pós-graduação no conjunto de dados\n",
        "num_pos_graduacao = df[df['Escolaridade'] == 'Pós-graduação'].shape[0] #num_pos_graduacao conta quantas pessoas têm pós-graduação no conjunto original.\n",
        "total_pessoas = df.shape[0]\n",
        "prob_pos_graduacao = num_pos_graduacao / total_pessoas #prob_pos_graduacao é a probabilidade de uma pessoa aleatória ter pós-graduação.\n",
        "\n",
        "print(f'Probabilidade de uma pessoa ter pós-graduação no conjunto original: {prob_pos_graduacao:.4f}')"
      ],
      "metadata": {
        "id": "cq6LKe3NuTPo",
        "colab": {
          "base_uri": "https://localhost:8080/"
        },
        "outputId": "488f1305-f353-4f39-a8df-66c2006a9694"
      },
      "execution_count": 23,
      "outputs": [
        {
          "output_type": "stream",
          "name": "stdout",
          "text": [
            "Probabilidade de uma pessoa ter pós-graduação no conjunto original: 0.2530\n"
          ]
        }
      ]
    },
    {
      "cell_type": "code",
      "source": [
        "# Calcular a probabilidade de encontrar 243 mil pessoas com pós-graduação em 1 milhão de habitantes\n",
        "n = 1000000  # Número de habitantes\n",
        "k = 243000  # Número de pessoas com pós-graduação que queremos encontrar\n",
        "\n",
        "# Usar a distribuição binomial para calcular a probabilidade\n",
        "probabilidade = stat.binom.pmf(k, n, prob_pos_graduacao) #A função stat.binom.pmf(k, n, prob_pos_graduacao) calcula a probabilidade de observar exatamente 243 mil pessoas com pós-graduação (k = 243000) em uma amostra de 1 milhão de habitantes (n = 1000000) com a probabilidade de sucesso dada pela proporção de pós-graduados.\n",
        "\n",
        "print(f'Probabilidade de encontrar 243 mil pessoas com pós-graduação em 1 milhão de habitantes: {probabilidade:.10f}')"
      ],
      "metadata": {
        "colab": {
          "base_uri": "https://localhost:8080/"
        },
        "id": "I2TiXpca5sa3",
        "outputId": "6e788d10-fe50-49a5-f67a-83703e3a8ee4"
      },
      "execution_count": 24,
      "outputs": [
        {
          "output_type": "stream",
          "name": "stdout",
          "text": [
            "Probabilidade de encontrar 243 mil pessoas com pós-graduação em 1 milhão de habitantes: 0.0000000000\n"
          ]
        }
      ]
    },
    {
      "cell_type": "markdown",
      "source": [
        "7- Somando as densidades nós temos a função de densidade acumulada.\n",
        "Considerando a coluna ‘Escolaridade’ faça a função de densidade\n",
        "acumulada discreta para cada nível de escolaridade"
      ],
      "metadata": {
        "id": "QFVB5-ihuTyC"
      }
    },
    {
      "cell_type": "code",
      "source": [
        "# Contar a frequência de cada nível de escolaridade\n",
        "frequencia_escolaridade = df['Escolaridade'].value_counts() #value_counts() para contar quantas vezes cada nível de escolaridade aparece no DataFrame."
      ],
      "metadata": {
        "id": "OURQohrnuVSS"
      },
      "execution_count": 25,
      "outputs": []
    },
    {
      "cell_type": "code",
      "source": [
        "# Calcular a frequência relativa (probabilidade) de cada nível\n",
        "probabilidade_escolaridade = frequencia_escolaridade / frequencia_escolaridade.sum() #Calculamos a probabilidade de cada nível de escolaridade dividindo a frequência de cada nível pelo total."
      ],
      "metadata": {
        "id": "1xbgeEo86-C0"
      },
      "execution_count": 26,
      "outputs": []
    },
    {
      "cell_type": "code",
      "source": [
        "# Calcular a função de densidade acumulada (CDF) somando cumulativamente as probabilidades\n",
        "cdf_escolaridade = probabilidade_escolaridade.cumsum() #A CDF é calculada com cumsum(), que soma cumulativamente as probabilidades"
      ],
      "metadata": {
        "id": "Py7ilFsi7A7f"
      },
      "execution_count": 27,
      "outputs": []
    },
    {
      "cell_type": "code",
      "source": [
        "#Respostas\n",
        "print(\"Frequência relativa de cada nível de escolaridade:\")\n",
        "print(probabilidade_escolaridade)\n",
        "\n",
        "print(\"\\nFunção de Densidade Acumulada (CDF) para cada nível de escolaridade:\")\n",
        "print(cdf_escolaridade)"
      ],
      "metadata": {
        "colab": {
          "base_uri": "https://localhost:8080/"
        },
        "id": "FYkZPdqb7Cqd",
        "outputId": "62d19cbf-13c9-4ce1-97f2-86ba0a3999e5"
      },
      "execution_count": 28,
      "outputs": [
        {
          "output_type": "stream",
          "name": "stdout",
          "text": [
            "Frequência relativa de cada nível de escolaridade:\n",
            "Escolaridade\n",
            "Fundamental      0.266\n",
            "Pós-graduação    0.253\n",
            "Superior         0.243\n",
            "Médio            0.238\n",
            "Name: count, dtype: float64\n",
            "\n",
            "Função de Densidade Acumulada (CDF) para cada nível de escolaridade:\n",
            "Escolaridade\n",
            "Fundamental      0.266\n",
            "Pós-graduação    0.519\n",
            "Superior         0.762\n",
            "Médio            1.000\n",
            "Name: count, dtype: float64\n"
          ]
        }
      ]
    },
    {
      "cell_type": "markdown",
      "source": [
        "8 - Qual a margem de erro amostral da proporção populacional\n",
        "considerando a proporção de pessoas com nível de inglês\n",
        "intermediário?"
      ],
      "metadata": {
        "id": "FtjaKxrouV1y"
      }
    },
    {
      "cell_type": "code",
      "source": [
        "# Suponha que você tenha os seguintes dados\n",
        "# Proporção amostral de pessoas com inglês intermediário\n",
        "p_hat = 0.3  #p_hat é a proporção de pessoas com nível de inglês intermediário.\n",
        "\n",
        "# Tamanho da amostra\n",
        "n = 1000  #n pelo número real de pessoas na amostra.\n",
        "\n",
        "# Nível de confiança (95% => Z = 1.96)\n",
        "Z = stat.norm.ppf(0.975)  #stat.norm.ppf(0.975) retorna o valor crítico para 95% de confiança.\n",
        "\n",
        "# Calcular a margem de erro\n",
        "margem_erro = Z * np.sqrt((p_hat * (1 - p_hat)) / n)\n",
        "\n",
        "print(f'Margem de erro amostral: {margem_erro:.4f}')"
      ],
      "metadata": {
        "id": "qaGiwdLNuXja",
        "colab": {
          "base_uri": "https://localhost:8080/"
        },
        "outputId": "7c4db3b3-9dca-482f-a7f0-f506f1fcb597"
      },
      "execution_count": 29,
      "outputs": [
        {
          "output_type": "stream",
          "name": "stdout",
          "text": [
            "Margem de erro amostral: 0.0284\n"
          ]
        }
      ]
    },
    {
      "cell_type": "markdown",
      "source": [
        "9 - Calcula a renda da população. Qual a probabilidade de encontrar 60\n",
        "pessoas com uma renda mil reais superior à média?"
      ],
      "metadata": {
        "id": "eFSgDoqFuYGk"
      }
    },
    {
      "cell_type": "code",
      "source": [
        "#Média da renda ja está calculada lá em cima\n",
        "media_renda"
      ],
      "metadata": {
        "id": "3iaatk-huZrS",
        "colab": {
          "base_uri": "https://localhost:8080/"
        },
        "outputId": "5d4add78-9b41-4035-fc46-36a470372cd4"
      },
      "execution_count": 31,
      "outputs": [
        {
          "output_type": "execute_result",
          "data": {
            "text/plain": [
              "3082.5371800000003"
            ]
          },
          "metadata": {},
          "execution_count": 31
        }
      ]
    },
    {
      "cell_type": "code",
      "source": [
        "#Definir a condição para renda mil reais superior à média\n",
        "pessoas_renda_superior = df[df['Renda'] > (media_renda + 1000)].shape[0]\n",
        "total_pessoas = df.shape[0]\n",
        "\n",
        "#Calcular a proporção (probabilidade amostral)\n",
        "prob_renda_superior = pessoas_renda_superior / total_pessoas\n",
        "print(f'Proporção de pessoas com renda mil reais superior à média: {prob_renda_superior:.4f}')"
      ],
      "metadata": {
        "colab": {
          "base_uri": "https://localhost:8080/"
        },
        "id": "ZYJBrj8S8uEY",
        "outputId": "03adc9c1-8228-4e91-c750-c0c42ee3119a"
      },
      "execution_count": 32,
      "outputs": [
        {
          "output_type": "stream",
          "name": "stdout",
          "text": [
            "Proporção de pessoas com renda mil reais superior à média: 0.1610\n"
          ]
        }
      ]
    },
    {
      "cell_type": "code",
      "source": [
        "# N=100 de amostra\n",
        "n = 1000\n",
        "\n",
        "#Pessoas que queremos encontrar K=60\n",
        "k = 60\n",
        "\n",
        "# Usar a distribuição binomial para calcular a probabilidade\n",
        "probabilidade_60 = stat.binom.pmf(k, n, prob_renda_superior) #stat.binom.pmf(k, n, p) calcula a probabilidade de observar exatamente 60 pessoas com renda superior à média em uma amostra de n\n",
        "\n",
        "print(f'Probabilidade de encontrar 60 pessoas com renda superior à média: {probabilidade_60:.10f}')"
      ],
      "metadata": {
        "colab": {
          "base_uri": "https://localhost:8080/"
        },
        "id": "uwUL0tpN87mR",
        "outputId": "56cc6b95-8577-4a3b-8798-c87ada543510"
      },
      "execution_count": 33,
      "outputs": [
        {
          "output_type": "stream",
          "name": "stdout",
          "text": [
            "Probabilidade de encontrar 60 pessoas com renda superior à média: 0.0000000000\n"
          ]
        }
      ]
    },
    {
      "cell_type": "markdown",
      "source": [
        "10 - Qual a probabilidade de escolhermos alguém do Sudeste que seja\n",
        "homem, com ensino fundamental e com renda maior que 2 mil reais por\n",
        "mês?"
      ],
      "metadata": {
        "id": "PIMnKksBuaBM"
      }
    },
    {
      "cell_type": "code",
      "source": [
        "# Primeiro, verificar quais são os valores possíveis nessa coluna\n",
        "print(df['Estado'].unique())"
      ],
      "metadata": {
        "id": "gX3g9jp3ubXA",
        "colab": {
          "base_uri": "https://localhost:8080/"
        },
        "outputId": "fe479780-a194-4add-9d25-757104afe058"
      },
      "execution_count": 35,
      "outputs": [
        {
          "output_type": "stream",
          "name": "stdout",
          "text": [
            "['MA' 'BA' 'AM' 'CE' 'SE' 'DF' 'PI' 'AP' 'AC' 'SC' 'SP' 'GO' 'RO' 'PA'\n",
            " 'MS' 'RN' 'RS' 'RR' 'PR' 'MG' 'MT' 'TO' 'PB' 'PE' 'RJ' 'AL' 'ES']\n"
          ]
        }
      ]
    },
    {
      "cell_type": "code",
      "source": [
        "#Dicionário para criar a coluna Região para cada sigla a partir do Estado\n",
        "mapa_regiao = {\n",
        "    'AC': 'Norte', 'AP': 'Norte', 'AM': 'Norte', 'PA': 'Norte', 'RO': 'Norte', 'RR': 'Norte', 'TO': 'Norte',\n",
        "    'AL': 'Nordeste', 'BA': 'Nordeste', 'CE': 'Nordeste', 'MA': 'Nordeste', 'PB': 'Nordeste', 'PE': 'Nordeste',\n",
        "    'PI': 'Nordeste', 'RN': 'Nordeste', 'SE': 'Nordeste',\n",
        "    'DF': 'Centro-Oeste', 'GO': 'Centro-Oeste', 'MT': 'Centro-Oeste', 'MS': 'Centro-Oeste',\n",
        "    'ES': 'Sudeste', 'MG': 'Sudeste', 'RJ': 'Sudeste', 'SP': 'Sudeste',\n",
        "    'PR': 'Sul', 'SC': 'Sul', 'RS': 'Sul'\n",
        "}\n",
        "\n",
        "# Criar a nova coluna 'Região' usando a coluna 'Estado'\n",
        "df['Região'] = df['Estado'].map(mapa_regiao)"
      ],
      "metadata": {
        "id": "bP2Aypv5BHjb"
      },
      "execution_count": 36,
      "outputs": []
    },
    {
      "cell_type": "code",
      "source": [
        "#Verificar se deu certo\n",
        "print(df['Região'].unique())"
      ],
      "metadata": {
        "colab": {
          "base_uri": "https://localhost:8080/"
        },
        "id": "cHERpi_ZBRBQ",
        "outputId": "1f5b87cb-0b41-43e7-d9d8-e16e2fd2fb8d"
      },
      "execution_count": 37,
      "outputs": [
        {
          "output_type": "stream",
          "name": "stdout",
          "text": [
            "['Nordeste' 'Norte' 'Centro-Oeste' 'Sul' 'Sudeste']\n"
          ]
        }
      ]
    },
    {
      "cell_type": "code",
      "source": [
        "#Filtrar as condições\n",
        "condicao = (\n",
        "    (df['Região'] == 'Sudeste') &\n",
        "    (df['Sexo'] == 'Masculino') &\n",
        "    (df['Escolaridade'] == 'Ensino Fundamental') &\n",
        "    (df['Renda'] > 2000)\n",
        ")\n",
        "\n",
        "#Filtrar as pessoas que atendem às condições\n",
        "pessoas_criterio = df[condicao].shape[0]"
      ],
      "metadata": {
        "id": "y7NODyPlAqJd"
      },
      "execution_count": 39,
      "outputs": []
    },
    {
      "cell_type": "code",
      "source": [
        "#Calcular o total de pessoas na amostra\n",
        "total_pessoas = df.shape[0]\n",
        "\n",
        "#Calcular a probabilidade\n",
        "probabilidade = pessoas_criterio / total_pessoas\n",
        "\n",
        "print(f'Probabilidade de escolher alguém do Sudeste que seja homem, com ensino fundamental e renda superior a 2 mil reais: {probabilidade:.4f}')"
      ],
      "metadata": {
        "colab": {
          "base_uri": "https://localhost:8080/"
        },
        "id": "OXBTc_z6AT-I",
        "outputId": "f5d29561-343f-4bff-d9de-416881fe4e86"
      },
      "execution_count": 40,
      "outputs": [
        {
          "output_type": "stream",
          "name": "stdout",
          "text": [
            "Probabilidade de escolher alguém do Sudeste que seja homem, com ensino fundamental e renda superior a 2 mil reais: 0.0000\n"
          ]
        }
      ]
    }
  ]
}