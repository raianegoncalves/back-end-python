{
  "nbformat": 4,
  "nbformat_minor": 0,
  "metadata": {
    "colab": {
      "provenance": [],
      "authorship_tag": "ABX9TyP4k5hNdgxcADLSMPE1A1d1",
      "include_colab_link": true
    },
    "kernelspec": {
      "name": "python3",
      "display_name": "Python 3"
    },
    "language_info": {
      "name": "python"
    }
  },
  "cells": [
    {
      "cell_type": "markdown",
      "metadata": {
        "id": "view-in-github",
        "colab_type": "text"
      },
      "source": [
        "<a href=\"https://colab.research.google.com/github/raianegoncalves/back-end-python/blob/main/Desafio_Correlacao_Regressao_Individual.ipynb\" target=\"_parent\"><img src=\"https://colab.research.google.com/assets/colab-badge.svg\" alt=\"Open In Colab\"/></a>"
      ]
    },
    {
      "cell_type": "code",
      "execution_count": 1,
      "metadata": {
        "id": "k7ldljAFTWzl"
      },
      "outputs": [],
      "source": [
        "#para manipulaçao de dados\n",
        "import pandas as pd\n",
        "import numpy as np\n",
        "\n",
        "# para visualização de dados\n",
        "import seaborn as sns\n",
        "import matplotlib.pyplot as plt"
      ]
    },
    {
      "cell_type": "code",
      "source": [
        "#leitura dos dados em csv\n",
        "df = pd.read_csv(\"kc_house_data.csv\", sep = \",\")"
      ],
      "metadata": {
        "id": "EdtiK7xqUQS4"
      },
      "execution_count": 5,
      "outputs": []
    },
    {
      "cell_type": "code",
      "source": [
        "#verificando as 5 primeiras linhas\n",
        "df.head(5)"
      ],
      "metadata": {
        "colab": {
          "base_uri": "https://localhost:8080/",
          "height": 256
        },
        "id": "sYYgSZJ4UqE1",
        "outputId": "3f9797a0-5715-45f9-ab40-fc6a10363843"
      },
      "execution_count": 6,
      "outputs": [
        {
          "output_type": "execute_result",
          "data": {
            "text/plain": [
              "           id             date     price  bedrooms  bathrooms  sqft_living  \\\n",
              "0  7129300520  20141013T000000  221900.0         3       1.00         1180   \n",
              "1  6414100192  20141209T000000  538000.0         3       2.25         2570   \n",
              "2  5631500400  20150225T000000  180000.0         2       1.00          770   \n",
              "3  2487200875  20141209T000000  604000.0         4       3.00         1960   \n",
              "4  1954400510  20150218T000000  510000.0         3       2.00         1680   \n",
              "\n",
              "   sqft_lot  floors waterfront  view  ...  grade  sqft_above  sqft_basement  \\\n",
              "0      5650     1.0          n     0  ...      7        1180              0   \n",
              "1      7242     2.0          n     0  ...      7        2170            400   \n",
              "2     10000     1.0          n     0  ...      6         770              0   \n",
              "3      5000     1.0          n     0  ...      7        1050            910   \n",
              "4      8080     1.0          n     0  ...      8        1680              0   \n",
              "\n",
              "   yr_built  yr_renovated  zipcode      lat     long  sqft_living15  \\\n",
              "0      1955             0    98178  47.5112 -122.257           1340   \n",
              "1      1951          1991    98125  47.7210 -122.319           1690   \n",
              "2      1933             0    98028  47.7379 -122.233           2720   \n",
              "3      1965             0    98136  47.5208 -122.393           1360   \n",
              "4      1987             0    98074  47.6168 -122.045           1800   \n",
              "\n",
              "   sqft_lot15  \n",
              "0        5650  \n",
              "1        7639  \n",
              "2        8062  \n",
              "3        5000  \n",
              "4        7503  \n",
              "\n",
              "[5 rows x 21 columns]"
            ],
            "text/html": [
              "\n",
              "  <div id=\"df-5a3d75c0-8ae1-4a20-a2cb-c8ef9d4e1b76\" class=\"colab-df-container\">\n",
              "    <div>\n",
              "<style scoped>\n",
              "    .dataframe tbody tr th:only-of-type {\n",
              "        vertical-align: middle;\n",
              "    }\n",
              "\n",
              "    .dataframe tbody tr th {\n",
              "        vertical-align: top;\n",
              "    }\n",
              "\n",
              "    .dataframe thead th {\n",
              "        text-align: right;\n",
              "    }\n",
              "</style>\n",
              "<table border=\"1\" class=\"dataframe\">\n",
              "  <thead>\n",
              "    <tr style=\"text-align: right;\">\n",
              "      <th></th>\n",
              "      <th>id</th>\n",
              "      <th>date</th>\n",
              "      <th>price</th>\n",
              "      <th>bedrooms</th>\n",
              "      <th>bathrooms</th>\n",
              "      <th>sqft_living</th>\n",
              "      <th>sqft_lot</th>\n",
              "      <th>floors</th>\n",
              "      <th>waterfront</th>\n",
              "      <th>view</th>\n",
              "      <th>...</th>\n",
              "      <th>grade</th>\n",
              "      <th>sqft_above</th>\n",
              "      <th>sqft_basement</th>\n",
              "      <th>yr_built</th>\n",
              "      <th>yr_renovated</th>\n",
              "      <th>zipcode</th>\n",
              "      <th>lat</th>\n",
              "      <th>long</th>\n",
              "      <th>sqft_living15</th>\n",
              "      <th>sqft_lot15</th>\n",
              "    </tr>\n",
              "  </thead>\n",
              "  <tbody>\n",
              "    <tr>\n",
              "      <th>0</th>\n",
              "      <td>7129300520</td>\n",
              "      <td>20141013T000000</td>\n",
              "      <td>221900.0</td>\n",
              "      <td>3</td>\n",
              "      <td>1.00</td>\n",
              "      <td>1180</td>\n",
              "      <td>5650</td>\n",
              "      <td>1.0</td>\n",
              "      <td>n</td>\n",
              "      <td>0</td>\n",
              "      <td>...</td>\n",
              "      <td>7</td>\n",
              "      <td>1180</td>\n",
              "      <td>0</td>\n",
              "      <td>1955</td>\n",
              "      <td>0</td>\n",
              "      <td>98178</td>\n",
              "      <td>47.5112</td>\n",
              "      <td>-122.257</td>\n",
              "      <td>1340</td>\n",
              "      <td>5650</td>\n",
              "    </tr>\n",
              "    <tr>\n",
              "      <th>1</th>\n",
              "      <td>6414100192</td>\n",
              "      <td>20141209T000000</td>\n",
              "      <td>538000.0</td>\n",
              "      <td>3</td>\n",
              "      <td>2.25</td>\n",
              "      <td>2570</td>\n",
              "      <td>7242</td>\n",
              "      <td>2.0</td>\n",
              "      <td>n</td>\n",
              "      <td>0</td>\n",
              "      <td>...</td>\n",
              "      <td>7</td>\n",
              "      <td>2170</td>\n",
              "      <td>400</td>\n",
              "      <td>1951</td>\n",
              "      <td>1991</td>\n",
              "      <td>98125</td>\n",
              "      <td>47.7210</td>\n",
              "      <td>-122.319</td>\n",
              "      <td>1690</td>\n",
              "      <td>7639</td>\n",
              "    </tr>\n",
              "    <tr>\n",
              "      <th>2</th>\n",
              "      <td>5631500400</td>\n",
              "      <td>20150225T000000</td>\n",
              "      <td>180000.0</td>\n",
              "      <td>2</td>\n",
              "      <td>1.00</td>\n",
              "      <td>770</td>\n",
              "      <td>10000</td>\n",
              "      <td>1.0</td>\n",
              "      <td>n</td>\n",
              "      <td>0</td>\n",
              "      <td>...</td>\n",
              "      <td>6</td>\n",
              "      <td>770</td>\n",
              "      <td>0</td>\n",
              "      <td>1933</td>\n",
              "      <td>0</td>\n",
              "      <td>98028</td>\n",
              "      <td>47.7379</td>\n",
              "      <td>-122.233</td>\n",
              "      <td>2720</td>\n",
              "      <td>8062</td>\n",
              "    </tr>\n",
              "    <tr>\n",
              "      <th>3</th>\n",
              "      <td>2487200875</td>\n",
              "      <td>20141209T000000</td>\n",
              "      <td>604000.0</td>\n",
              "      <td>4</td>\n",
              "      <td>3.00</td>\n",
              "      <td>1960</td>\n",
              "      <td>5000</td>\n",
              "      <td>1.0</td>\n",
              "      <td>n</td>\n",
              "      <td>0</td>\n",
              "      <td>...</td>\n",
              "      <td>7</td>\n",
              "      <td>1050</td>\n",
              "      <td>910</td>\n",
              "      <td>1965</td>\n",
              "      <td>0</td>\n",
              "      <td>98136</td>\n",
              "      <td>47.5208</td>\n",
              "      <td>-122.393</td>\n",
              "      <td>1360</td>\n",
              "      <td>5000</td>\n",
              "    </tr>\n",
              "    <tr>\n",
              "      <th>4</th>\n",
              "      <td>1954400510</td>\n",
              "      <td>20150218T000000</td>\n",
              "      <td>510000.0</td>\n",
              "      <td>3</td>\n",
              "      <td>2.00</td>\n",
              "      <td>1680</td>\n",
              "      <td>8080</td>\n",
              "      <td>1.0</td>\n",
              "      <td>n</td>\n",
              "      <td>0</td>\n",
              "      <td>...</td>\n",
              "      <td>8</td>\n",
              "      <td>1680</td>\n",
              "      <td>0</td>\n",
              "      <td>1987</td>\n",
              "      <td>0</td>\n",
              "      <td>98074</td>\n",
              "      <td>47.6168</td>\n",
              "      <td>-122.045</td>\n",
              "      <td>1800</td>\n",
              "      <td>7503</td>\n",
              "    </tr>\n",
              "  </tbody>\n",
              "</table>\n",
              "<p>5 rows × 21 columns</p>\n",
              "</div>\n",
              "    <div class=\"colab-df-buttons\">\n",
              "\n",
              "  <div class=\"colab-df-container\">\n",
              "    <button class=\"colab-df-convert\" onclick=\"convertToInteractive('df-5a3d75c0-8ae1-4a20-a2cb-c8ef9d4e1b76')\"\n",
              "            title=\"Convert this dataframe to an interactive table.\"\n",
              "            style=\"display:none;\">\n",
              "\n",
              "  <svg xmlns=\"http://www.w3.org/2000/svg\" height=\"24px\" viewBox=\"0 -960 960 960\">\n",
              "    <path d=\"M120-120v-720h720v720H120Zm60-500h600v-160H180v160Zm220 220h160v-160H400v160Zm0 220h160v-160H400v160ZM180-400h160v-160H180v160Zm440 0h160v-160H620v160ZM180-180h160v-160H180v160Zm440 0h160v-160H620v160Z\"/>\n",
              "  </svg>\n",
              "    </button>\n",
              "\n",
              "  <style>\n",
              "    .colab-df-container {\n",
              "      display:flex;\n",
              "      gap: 12px;\n",
              "    }\n",
              "\n",
              "    .colab-df-convert {\n",
              "      background-color: #E8F0FE;\n",
              "      border: none;\n",
              "      border-radius: 50%;\n",
              "      cursor: pointer;\n",
              "      display: none;\n",
              "      fill: #1967D2;\n",
              "      height: 32px;\n",
              "      padding: 0 0 0 0;\n",
              "      width: 32px;\n",
              "    }\n",
              "\n",
              "    .colab-df-convert:hover {\n",
              "      background-color: #E2EBFA;\n",
              "      box-shadow: 0px 1px 2px rgba(60, 64, 67, 0.3), 0px 1px 3px 1px rgba(60, 64, 67, 0.15);\n",
              "      fill: #174EA6;\n",
              "    }\n",
              "\n",
              "    .colab-df-buttons div {\n",
              "      margin-bottom: 4px;\n",
              "    }\n",
              "\n",
              "    [theme=dark] .colab-df-convert {\n",
              "      background-color: #3B4455;\n",
              "      fill: #D2E3FC;\n",
              "    }\n",
              "\n",
              "    [theme=dark] .colab-df-convert:hover {\n",
              "      background-color: #434B5C;\n",
              "      box-shadow: 0px 1px 3px 1px rgba(0, 0, 0, 0.15);\n",
              "      filter: drop-shadow(0px 1px 2px rgba(0, 0, 0, 0.3));\n",
              "      fill: #FFFFFF;\n",
              "    }\n",
              "  </style>\n",
              "\n",
              "    <script>\n",
              "      const buttonEl =\n",
              "        document.querySelector('#df-5a3d75c0-8ae1-4a20-a2cb-c8ef9d4e1b76 button.colab-df-convert');\n",
              "      buttonEl.style.display =\n",
              "        google.colab.kernel.accessAllowed ? 'block' : 'none';\n",
              "\n",
              "      async function convertToInteractive(key) {\n",
              "        const element = document.querySelector('#df-5a3d75c0-8ae1-4a20-a2cb-c8ef9d4e1b76');\n",
              "        const dataTable =\n",
              "          await google.colab.kernel.invokeFunction('convertToInteractive',\n",
              "                                                    [key], {});\n",
              "        if (!dataTable) return;\n",
              "\n",
              "        const docLinkHtml = 'Like what you see? Visit the ' +\n",
              "          '<a target=\"_blank\" href=https://colab.research.google.com/notebooks/data_table.ipynb>data table notebook</a>'\n",
              "          + ' to learn more about interactive tables.';\n",
              "        element.innerHTML = '';\n",
              "        dataTable['output_type'] = 'display_data';\n",
              "        await google.colab.output.renderOutput(dataTable, element);\n",
              "        const docLink = document.createElement('div');\n",
              "        docLink.innerHTML = docLinkHtml;\n",
              "        element.appendChild(docLink);\n",
              "      }\n",
              "    </script>\n",
              "  </div>\n",
              "\n",
              "\n",
              "<div id=\"df-df98ed52-8b14-43cd-a657-5f998530efc5\">\n",
              "  <button class=\"colab-df-quickchart\" onclick=\"quickchart('df-df98ed52-8b14-43cd-a657-5f998530efc5')\"\n",
              "            title=\"Suggest charts\"\n",
              "            style=\"display:none;\">\n",
              "\n",
              "<svg xmlns=\"http://www.w3.org/2000/svg\" height=\"24px\"viewBox=\"0 0 24 24\"\n",
              "     width=\"24px\">\n",
              "    <g>\n",
              "        <path d=\"M19 3H5c-1.1 0-2 .9-2 2v14c0 1.1.9 2 2 2h14c1.1 0 2-.9 2-2V5c0-1.1-.9-2-2-2zM9 17H7v-7h2v7zm4 0h-2V7h2v10zm4 0h-2v-4h2v4z\"/>\n",
              "    </g>\n",
              "</svg>\n",
              "  </button>\n",
              "\n",
              "<style>\n",
              "  .colab-df-quickchart {\n",
              "      --bg-color: #E8F0FE;\n",
              "      --fill-color: #1967D2;\n",
              "      --hover-bg-color: #E2EBFA;\n",
              "      --hover-fill-color: #174EA6;\n",
              "      --disabled-fill-color: #AAA;\n",
              "      --disabled-bg-color: #DDD;\n",
              "  }\n",
              "\n",
              "  [theme=dark] .colab-df-quickchart {\n",
              "      --bg-color: #3B4455;\n",
              "      --fill-color: #D2E3FC;\n",
              "      --hover-bg-color: #434B5C;\n",
              "      --hover-fill-color: #FFFFFF;\n",
              "      --disabled-bg-color: #3B4455;\n",
              "      --disabled-fill-color: #666;\n",
              "  }\n",
              "\n",
              "  .colab-df-quickchart {\n",
              "    background-color: var(--bg-color);\n",
              "    border: none;\n",
              "    border-radius: 50%;\n",
              "    cursor: pointer;\n",
              "    display: none;\n",
              "    fill: var(--fill-color);\n",
              "    height: 32px;\n",
              "    padding: 0;\n",
              "    width: 32px;\n",
              "  }\n",
              "\n",
              "  .colab-df-quickchart:hover {\n",
              "    background-color: var(--hover-bg-color);\n",
              "    box-shadow: 0 1px 2px rgba(60, 64, 67, 0.3), 0 1px 3px 1px rgba(60, 64, 67, 0.15);\n",
              "    fill: var(--button-hover-fill-color);\n",
              "  }\n",
              "\n",
              "  .colab-df-quickchart-complete:disabled,\n",
              "  .colab-df-quickchart-complete:disabled:hover {\n",
              "    background-color: var(--disabled-bg-color);\n",
              "    fill: var(--disabled-fill-color);\n",
              "    box-shadow: none;\n",
              "  }\n",
              "\n",
              "  .colab-df-spinner {\n",
              "    border: 2px solid var(--fill-color);\n",
              "    border-color: transparent;\n",
              "    border-bottom-color: var(--fill-color);\n",
              "    animation:\n",
              "      spin 1s steps(1) infinite;\n",
              "  }\n",
              "\n",
              "  @keyframes spin {\n",
              "    0% {\n",
              "      border-color: transparent;\n",
              "      border-bottom-color: var(--fill-color);\n",
              "      border-left-color: var(--fill-color);\n",
              "    }\n",
              "    20% {\n",
              "      border-color: transparent;\n",
              "      border-left-color: var(--fill-color);\n",
              "      border-top-color: var(--fill-color);\n",
              "    }\n",
              "    30% {\n",
              "      border-color: transparent;\n",
              "      border-left-color: var(--fill-color);\n",
              "      border-top-color: var(--fill-color);\n",
              "      border-right-color: var(--fill-color);\n",
              "    }\n",
              "    40% {\n",
              "      border-color: transparent;\n",
              "      border-right-color: var(--fill-color);\n",
              "      border-top-color: var(--fill-color);\n",
              "    }\n",
              "    60% {\n",
              "      border-color: transparent;\n",
              "      border-right-color: var(--fill-color);\n",
              "    }\n",
              "    80% {\n",
              "      border-color: transparent;\n",
              "      border-right-color: var(--fill-color);\n",
              "      border-bottom-color: var(--fill-color);\n",
              "    }\n",
              "    90% {\n",
              "      border-color: transparent;\n",
              "      border-bottom-color: var(--fill-color);\n",
              "    }\n",
              "  }\n",
              "</style>\n",
              "\n",
              "  <script>\n",
              "    async function quickchart(key) {\n",
              "      const quickchartButtonEl =\n",
              "        document.querySelector('#' + key + ' button');\n",
              "      quickchartButtonEl.disabled = true;  // To prevent multiple clicks.\n",
              "      quickchartButtonEl.classList.add('colab-df-spinner');\n",
              "      try {\n",
              "        const charts = await google.colab.kernel.invokeFunction(\n",
              "            'suggestCharts', [key], {});\n",
              "      } catch (error) {\n",
              "        console.error('Error during call to suggestCharts:', error);\n",
              "      }\n",
              "      quickchartButtonEl.classList.remove('colab-df-spinner');\n",
              "      quickchartButtonEl.classList.add('colab-df-quickchart-complete');\n",
              "    }\n",
              "    (() => {\n",
              "      let quickchartButtonEl =\n",
              "        document.querySelector('#df-df98ed52-8b14-43cd-a657-5f998530efc5 button');\n",
              "      quickchartButtonEl.style.display =\n",
              "        google.colab.kernel.accessAllowed ? 'block' : 'none';\n",
              "    })();\n",
              "  </script>\n",
              "</div>\n",
              "\n",
              "    </div>\n",
              "  </div>\n"
            ],
            "application/vnd.google.colaboratory.intrinsic+json": {
              "type": "dataframe",
              "variable_name": "df"
            }
          },
          "metadata": {},
          "execution_count": 6
        }
      ]
    },
    {
      "cell_type": "code",
      "source": [
        "#verificar se todas estão com dtype certos\n",
        "df.info()"
      ],
      "metadata": {
        "colab": {
          "base_uri": "https://localhost:8080/"
        },
        "id": "PsJljCfvVTKE",
        "outputId": "076a8eb2-6f6e-4308-df0f-8d99da683ce1"
      },
      "execution_count": 9,
      "outputs": [
        {
          "output_type": "stream",
          "name": "stdout",
          "text": [
            "<class 'pandas.core.frame.DataFrame'>\n",
            "RangeIndex: 9999 entries, 0 to 9998\n",
            "Data columns (total 21 columns):\n",
            " #   Column         Non-Null Count  Dtype  \n",
            "---  ------         --------------  -----  \n",
            " 0   id             9999 non-null   int64  \n",
            " 1   date           9999 non-null   object \n",
            " 2   price          9999 non-null   float64\n",
            " 3   bedrooms       9999 non-null   int64  \n",
            " 4   bathrooms      9999 non-null   float64\n",
            " 5   sqft_living    9999 non-null   int64  \n",
            " 6   sqft_lot       9999 non-null   int64  \n",
            " 7   floors         9999 non-null   float64\n",
            " 8   waterfront     9999 non-null   object \n",
            " 9   view           9999 non-null   int64  \n",
            " 10  condition      9999 non-null   int64  \n",
            " 11  grade          9999 non-null   int64  \n",
            " 12  sqft_above     9999 non-null   int64  \n",
            " 13  sqft_basement  9999 non-null   int64  \n",
            " 14  yr_built       9999 non-null   int64  \n",
            " 15  yr_renovated   9999 non-null   int64  \n",
            " 16  zipcode        9999 non-null   int64  \n",
            " 17  lat            9999 non-null   float64\n",
            " 18  long           9999 non-null   float64\n",
            " 19  sqft_living15  9999 non-null   int64  \n",
            " 20  sqft_lot15     9999 non-null   int64  \n",
            "dtypes: float64(5), int64(14), object(2)\n",
            "memory usage: 1.6+ MB\n"
          ]
        }
      ]
    },
    {
      "cell_type": "markdown",
      "source": [
        "1- Codifique e exiba a matriz de correlação entre as variáveis numéricas.\n",
        "Além disso, qual é a correlação entre o preço price e o número de\n",
        "quartos bedrooms? Existe alguma diferença na correlação quando\n",
        "consideramos apenas casas com uma área total sqft_living superior a\n",
        "2000 pés quadrados?"
      ],
      "metadata": {
        "id": "IfyjKi_9XyL9"
      }
    },
    {
      "cell_type": "code",
      "source": [
        "# Selecionando apenas as colunas numéricas (excluindo a coluna 'date')\n",
        "numerical_df = df.select_dtypes(include=['int64', 'float64'])"
      ],
      "metadata": {
        "id": "NOTP7EZCXbJd"
      },
      "execution_count": 11,
      "outputs": []
    },
    {
      "cell_type": "code",
      "source": [
        "# Exibindo a matriz de correlação para as variáveis numéricas\n",
        "correlation_matrix = numerical_df.corr()\n",
        "print(\"Matriz de correlação:\")\n",
        "print(correlation_matrix)"
      ],
      "metadata": {
        "colab": {
          "base_uri": "https://localhost:8080/"
        },
        "id": "NlFAZv3KXPeW",
        "outputId": "f1296d6c-71ed-42ff-8280-beaabc28c743"
      },
      "execution_count": 13,
      "outputs": [
        {
          "output_type": "stream",
          "name": "stdout",
          "text": [
            "Matriz de correlação:\n",
            "                     id     price  bedrooms  bathrooms  sqft_living  sqft_lot  \\\n",
            "id             1.000000  0.005779  0.013855   0.007435     0.000415 -0.132510   \n",
            "price          0.005779  1.000000  0.299207   0.521193     0.702199  0.090720   \n",
            "bedrooms       0.013855  0.299207  1.000000   0.539449     0.573915  0.028929   \n",
            "bathrooms      0.007435  0.521193  0.539449   1.000000     0.764810  0.091268   \n",
            "sqft_living    0.000415  0.702199  0.573915   0.764810     1.000000  0.167809   \n",
            "sqft_lot      -0.132510  0.090720  0.028929   0.091268     0.167809  1.000000   \n",
            "floors         0.012260  0.276954  0.213565   0.494247     0.392802  0.021320   \n",
            "view           0.035295  0.398731  0.090767   0.205681     0.293149  0.064464   \n",
            "condition     -0.021744  0.044596  0.023435  -0.089029    -0.047375 -0.019324   \n",
            "grade          0.012872  0.651100  0.360955   0.660915     0.763526  0.121719   \n",
            "sqft_above    -0.007168  0.607763  0.464872   0.686311     0.869266  0.184876   \n",
            "sqft_basement  0.013732  0.326087  0.323817   0.311352     0.457630  0.006639   \n",
            "yr_built       0.011701  0.036116  0.164852   0.479104     0.324383  0.088609   \n",
            "yr_renovated  -0.015580  0.142752  0.027509   0.070821     0.068572 -0.003411   \n",
            "zipcode        0.001720 -0.054596 -0.146440  -0.204979    -0.191899 -0.126821   \n",
            "lat            0.000568  0.297156  0.001749   0.027687     0.062404 -0.069145   \n",
            "long           0.000084  0.015786  0.110417   0.217447     0.217292  0.225961   \n",
            "sqft_living15 -0.004075  0.583287  0.376492   0.579341     0.750315  0.158669   \n",
            "sqft_lot15    -0.146583  0.086809  0.019946   0.099278     0.192839  0.690367   \n",
            "\n",
            "                 floors      view  condition     grade  sqft_above  \\\n",
            "id             0.012260  0.035295  -0.021744  0.012872   -0.007168   \n",
            "price          0.276954  0.398731   0.044596  0.651100    0.607763   \n",
            "bedrooms       0.213565  0.090767   0.023435  0.360955    0.464872   \n",
            "bathrooms      0.494247  0.205681  -0.089029  0.660915    0.686311   \n",
            "sqft_living    0.392802  0.293149  -0.047375  0.763526    0.869266   \n",
            "sqft_lot       0.021320  0.064464  -0.019324  0.121719    0.184876   \n",
            "floors         1.000000  0.062255  -0.217362  0.463982    0.572961   \n",
            "view           0.062255  1.000000   0.044662  0.255709    0.174683   \n",
            "condition     -0.217362  0.044662   1.000000 -0.126440   -0.144689   \n",
            "grade          0.463982  0.255709  -0.126440  1.000000    0.760978   \n",
            "sqft_above     0.572961  0.174683  -0.144689  0.760978    1.000000   \n",
            "sqft_basement -0.236646  0.278300   0.164491  0.174460   -0.041740   \n",
            "yr_built       0.405597 -0.038961  -0.313085  0.438903    0.425474   \n",
            "yr_renovated   0.041302  0.113521  -0.074973  0.036942    0.036978   \n",
            "zipcode       -0.081076  0.072961  -0.005119 -0.194369   -0.253282   \n",
            "lat            0.042355 -0.003913  -0.016654  0.111048    0.011550   \n",
            "long           0.154666 -0.081587  -0.105288  0.205292    0.326653   \n",
            "sqft_living15  0.327327  0.289678  -0.088211  0.731650    0.730351   \n",
            "sqft_lot15     0.024016  0.044554  -0.025178  0.140770    0.210202   \n",
            "\n",
            "               sqft_basement  yr_built  yr_renovated   zipcode       lat  \\\n",
            "id                  0.013732  0.011701     -0.015580  0.001720  0.000568   \n",
            "price               0.326087  0.036116      0.142752 -0.054596  0.297156   \n",
            "bedrooms            0.323817  0.164852      0.027509 -0.146440  0.001749   \n",
            "bathrooms           0.311352  0.479104      0.070821 -0.204979  0.027687   \n",
            "sqft_living         0.457630  0.324383      0.068572 -0.191899  0.062404   \n",
            "sqft_lot            0.006639  0.088609     -0.003411 -0.126821 -0.069145   \n",
            "floors             -0.236646  0.405597      0.041302 -0.081076  0.042355   \n",
            "view                0.278300 -0.038961      0.113521  0.072961 -0.003913   \n",
            "condition           0.164491 -0.313085     -0.074973 -0.005119 -0.016654   \n",
            "grade               0.174460  0.438903      0.036942 -0.194369  0.111048   \n",
            "sqft_above         -0.041740  0.425474      0.036978 -0.253282  0.011550   \n",
            "sqft_basement       1.000000 -0.109653      0.072082  0.067710  0.105352   \n",
            "yr_built           -0.109653  1.000000     -0.222083 -0.380219 -0.163034   \n",
            "yr_renovated        0.072082 -0.222083      1.000000  0.064203  0.028556   \n",
            "zipcode             0.067710 -0.380219      0.064203  1.000000  0.261908   \n",
            "lat                 0.105352 -0.163034      0.028556  0.261908  1.000000   \n",
            "long               -0.148356  0.452273     -0.072915 -0.563085 -0.132353   \n",
            "sqft_living15       0.202844  0.352949     -0.001026 -0.270174  0.063485   \n",
            "sqft_lot15          0.011674  0.121355      0.003916 -0.156061 -0.063262   \n",
            "\n",
            "                   long  sqft_living15  sqft_lot15  \n",
            "id             0.000084      -0.004075   -0.146583  \n",
            "price          0.015786       0.583287    0.086809  \n",
            "bedrooms       0.110417       0.376492    0.019946  \n",
            "bathrooms      0.217447       0.579341    0.099278  \n",
            "sqft_living    0.217292       0.750315    0.192839  \n",
            "sqft_lot       0.225961       0.158669    0.690367  \n",
            "floors         0.154666       0.327327    0.024016  \n",
            "view          -0.081587       0.289678    0.044554  \n",
            "condition     -0.105288      -0.088211   -0.025178  \n",
            "grade          0.205292       0.731650    0.140770  \n",
            "sqft_above     0.326653       0.730351    0.210202  \n",
            "sqft_basement -0.148356       0.202844    0.011674  \n",
            "yr_built       0.452273       0.352949    0.121355  \n",
            "yr_renovated  -0.072915      -0.001026    0.003916  \n",
            "zipcode       -0.563085      -0.270174   -0.156061  \n",
            "lat           -0.132353       0.063485   -0.063262  \n",
            "long           1.000000       0.314069    0.274080  \n",
            "sqft_living15  0.314069       1.000000    0.211021  \n",
            "sqft_lot15     0.274080       0.211021    1.000000  \n"
          ]
        }
      ]
    },
    {
      "cell_type": "code",
      "source": [
        "# Obtendo a correlação entre 'price' e 'bedrooms'\n",
        "correlation_price_bedrooms = numerical_df['price'].corr(numerical_df['bedrooms'])\n",
        "print(f\"\\nCorrelação entre 'price' e 'bedrooms': {correlation_price_bedrooms}\")"
      ],
      "metadata": {
        "colab": {
          "base_uri": "https://localhost:8080/"
        },
        "id": "22PsGxR6Xj9F",
        "outputId": "8f5b72cc-b622-4f9b-d039-dc3c07f8a6cd"
      },
      "execution_count": 14,
      "outputs": [
        {
          "output_type": "stream",
          "name": "stdout",
          "text": [
            "\n",
            "Correlação entre 'price' e 'bedrooms': 0.29920721616918206\n"
          ]
        }
      ]
    },
    {
      "cell_type": "code",
      "source": [
        "# Filtrando as casas com 'sqft_living' superior a 2000 pés quadrados\n",
        "filtered_df = numerical_df[numerical_df['sqft_living'] > 2000]\n",
        "\n",
        "# Obtendo a correlação entre 'price' e 'bedrooms' para casas com 'sqft_living' > 2000\n",
        "correlation_filtered = filtered_df['price'].corr(filtered_df['bedrooms'])\n",
        "print(f\"\\nCorrelação entre 'price' e 'bedrooms' para 'sqft_living' > 2000: {correlation_filtered}\")"
      ],
      "metadata": {
        "colab": {
          "base_uri": "https://localhost:8080/"
        },
        "id": "oGQaQbW3Xm1f",
        "outputId": "7ed50c95-54ef-4da9-ef9f-317210cdab66"
      },
      "execution_count": 15,
      "outputs": [
        {
          "output_type": "stream",
          "name": "stdout",
          "text": [
            "\n",
            "Correlação entre 'price' e 'bedrooms' para 'sqft_living' > 2000: 0.11912115548964147\n"
          ]
        }
      ]
    },
    {
      "cell_type": "markdown",
      "source": [
        "2- Existe alguma correlação entre o preço price e a área total da casa\n",
        "sqft_living, considerando apenas casas com pelo menos dois\n",
        "banheiros bathrooms?"
      ],
      "metadata": {
        "id": "egQ1w654Xt52"
      }
    },
    {
      "cell_type": "code",
      "source": [
        "# Filtrando as casas com pelo menos dois banheiros\n",
        "filtered_df = df[df['bathrooms'] >= 2]\n",
        "\n",
        "# Calculando a correlação entre 'price' e 'sqft_living' para casas com pelo menos dois banheiros\n",
        "correlation_price_sqft_living = filtered_df['price'].corr(filtered_df['sqft_living'])\n",
        "print(f\"Correlação entre 'price' e 'sqft_living' para casas com pelo menos dois banheiros: {correlation_price_sqft_living}\")"
      ],
      "metadata": {
        "colab": {
          "base_uri": "https://localhost:8080/"
        },
        "id": "vjRKvFCPXwbQ",
        "outputId": "536519f4-cb2a-45e8-d0ac-1e3d2b3b2f39"
      },
      "execution_count": 16,
      "outputs": [
        {
          "output_type": "stream",
          "name": "stdout",
          "text": [
            "Correlação entre 'price' e 'sqft_living' para casas com pelo menos dois banheiros: 0.7067107107996193\n"
          ]
        }
      ]
    },
    {
      "cell_type": "markdown",
      "source": [
        "3- Como a quantidade de banheiros bathrooms influencia na correlação\n",
        "entre a área total da casa sqft_living e o preço price?"
      ],
      "metadata": {
        "id": "CyGb61CmX6sd"
      }
    },
    {
      "cell_type": "code",
      "source": [
        "# Definindo os intervalos de banheiros para análise\n",
        "bathroom_groups = sorted(df['bathrooms'].unique())\n",
        "\n",
        "# Calculando a correlação entre 'price' e 'sqft_living' para diferentes grupos de banheiros\n",
        "for bathrooms in bathroom_groups:\n",
        "    filtered_df = df[df['bathrooms'] == bathrooms]\n",
        "    correlation = filtered_df['price'].corr(filtered_df['sqft_living'])\n",
        "    print(f\"Correlação entre 'price' e 'sqft_living' para casas com {bathrooms} banheiros: {correlation}\")"
      ],
      "metadata": {
        "colab": {
          "base_uri": "https://localhost:8080/"
        },
        "id": "e-ro2dXzX8kL",
        "outputId": "3a7c45a4-830b-43ec-cb71-4d968b7ee414"
      },
      "execution_count": 17,
      "outputs": [
        {
          "output_type": "stream",
          "name": "stdout",
          "text": [
            "Correlação entre 'price' e 'sqft_living' para casas com 0.0 banheiros: 0.9168369900304426\n",
            "Correlação entre 'price' e 'sqft_living' para casas com 0.5 banheiros: nan\n",
            "Correlação entre 'price' e 'sqft_living' para casas com 0.75 banheiros: 0.35717777047322896\n",
            "Correlação entre 'price' e 'sqft_living' para casas com 1.0 banheiros: 0.35952866286208274\n",
            "Correlação entre 'price' e 'sqft_living' para casas com 1.25 banheiros: 0.16733066253227105\n",
            "Correlação entre 'price' e 'sqft_living' para casas com 1.5 banheiros: 0.42340467593143566\n",
            "Correlação entre 'price' e 'sqft_living' para casas com 1.75 banheiros: 0.44922451917233636\n",
            "Correlação entre 'price' e 'sqft_living' para casas com 2.0 banheiros: 0.4469445867495836\n",
            "Correlação entre 'price' e 'sqft_living' para casas com 2.25 banheiros: 0.598274075637526\n",
            "Correlação entre 'price' e 'sqft_living' para casas com 2.5 banheiros: 0.5599451984669482\n",
            "Correlação entre 'price' e 'sqft_living' para casas com 2.75 banheiros: 0.5223965282074604\n",
            "Correlação entre 'price' e 'sqft_living' para casas com 3.0 banheiros: 0.5690329087491449\n",
            "Correlação entre 'price' e 'sqft_living' para casas com 3.25 banheiros: 0.5446591202382951\n",
            "Correlação entre 'price' e 'sqft_living' para casas com 3.5 banheiros: 0.5663917643233903\n",
            "Correlação entre 'price' e 'sqft_living' para casas com 3.75 banheiros: 0.46553810504219867\n",
            "Correlação entre 'price' e 'sqft_living' para casas com 4.0 banheiros: 0.5844797954618549\n",
            "Correlação entre 'price' e 'sqft_living' para casas com 4.25 banheiros: 0.44476574630960036\n",
            "Correlação entre 'price' e 'sqft_living' para casas com 4.5 banheiros: 0.7960398865810752\n",
            "Correlação entre 'price' e 'sqft_living' para casas com 4.75 banheiros: 0.6493588759910098\n",
            "Correlação entre 'price' e 'sqft_living' para casas com 5.0 banheiros: 0.747218507200078\n",
            "Correlação entre 'price' e 'sqft_living' para casas com 5.25 banheiros: 0.9012170821743261\n",
            "Correlação entre 'price' e 'sqft_living' para casas com 5.5 banheiros: 0.41162519094392613\n",
            "Correlação entre 'price' e 'sqft_living' para casas com 5.75 banheiros: 1.0\n",
            "Correlação entre 'price' e 'sqft_living' para casas com 6.0 banheiros: 1.0\n",
            "Correlação entre 'price' e 'sqft_living' para casas com 6.75 banheiros: 1.0\n",
            "Correlação entre 'price' e 'sqft_living' para casas com 7.5 banheiros: nan\n",
            "Correlação entre 'price' e 'sqft_living' para casas com 7.75 banheiros: nan\n",
            "Correlação entre 'price' e 'sqft_living' para casas com 8.0 banheiros: nan\n"
          ]
        },
        {
          "output_type": "stream",
          "name": "stderr",
          "text": [
            "/usr/local/lib/python3.10/dist-packages/numpy/lib/function_base.py:2889: RuntimeWarning: Degrees of freedom <= 0 for slice\n",
            "  c = cov(x, y, rowvar, dtype=dtype)\n",
            "/usr/local/lib/python3.10/dist-packages/numpy/lib/function_base.py:2748: RuntimeWarning: divide by zero encountered in divide\n",
            "  c *= np.true_divide(1, fact)\n",
            "/usr/local/lib/python3.10/dist-packages/numpy/lib/function_base.py:2748: RuntimeWarning: invalid value encountered in multiply\n",
            "  c *= np.true_divide(1, fact)\n"
          ]
        }
      ]
    },
    {
      "cell_type": "markdown",
      "source": [
        "4- Qual é a relação entre a condição da casa condition e o preço price,\n",
        "considerando apenas casas com uma área total sqft_living superior a\n",
        "3000 pés quadrados?"
      ],
      "metadata": {
        "id": "mA0O-MD4YERC"
      }
    },
    {
      "cell_type": "code",
      "source": [
        "# Filtrando as casas com uma área total ('sqft_living') superior a 3000 pés quadrados\n",
        "filtered_df = df[df['sqft_living'] > 3000]\n",
        "\n",
        "# Calculando a correlação entre 'condition' e 'price' para casas com 'sqft_living' > 3000\n",
        "correlation_condition_price = filtered_df['condition'].corr(filtered_df['price'])\n",
        "print(f\"Correlação entre 'condition' e 'price' para casas com 'sqft_living' superior a 3000 pés quadrados: {correlation_condition_price}\")\n"
      ],
      "metadata": {
        "colab": {
          "base_uri": "https://localhost:8080/"
        },
        "id": "t85RgIuKYHqN",
        "outputId": "63e01844-4b44-4b70-e776-6fa2f9f0686a"
      },
      "execution_count": 18,
      "outputs": [
        {
          "output_type": "stream",
          "name": "stdout",
          "text": [
            "Correlação entre 'condition' e 'price' para casas com 'sqft_living' superior a 3000 pés quadrados: 0.10527844723732609\n"
          ]
        }
      ]
    },
    {
      "cell_type": "markdown",
      "source": [
        "5- Existe alguma correlação entre a localização geográfica lat e long e o\n",
        "preço price para casas com pelo menos três quartos bedrooms?"
      ],
      "metadata": {
        "id": "0dvCTtMwYLgx"
      }
    },
    {
      "cell_type": "code",
      "source": [
        "# Filtrando as casas com pelo menos três quartos\n",
        "filtered_df = df[df['bedrooms'] >= 3]\n",
        "\n",
        "# Calculando a correlação entre 'lat' e 'price' para casas com pelo menos três quartos\n",
        "correlation_lat_price = filtered_df['lat'].corr(filtered_df['price'])\n",
        "print(f\"Correlação entre 'lat' e 'price' para casas com pelo menos três quartos: {correlation_lat_price}\")\n",
        "\n",
        "# Calculando a correlação entre 'long' e 'price' para casas com pelo menos três quartos\n",
        "correlation_long_price = filtered_df['long'].corr(filtered_df['price'])\n",
        "print(f\"Correlação entre 'long' e 'price' para casas com pelo menos três quartos: {correlation_long_price}\")"
      ],
      "metadata": {
        "colab": {
          "base_uri": "https://localhost:8080/"
        },
        "id": "9JfPGiJSYNye",
        "outputId": "455d06c1-5b03-4b51-c2af-7e8b55a9781e"
      },
      "execution_count": 19,
      "outputs": [
        {
          "output_type": "stream",
          "name": "stdout",
          "text": [
            "Correlação entre 'lat' e 'price' para casas com pelo menos três quartos: 0.31255514248432165\n",
            "Correlação entre 'long' e 'price' para casas com pelo menos três quartos: -0.0072753069929269365\n"
          ]
        }
      ]
    },
    {
      "cell_type": "markdown",
      "source": [
        "6 - Calcule a correlação entre uma variável categórica(waterfront) e uma\n",
        "variável numérica(price) usando ANOVA."
      ],
      "metadata": {
        "id": "LnIa1yRaYQeY"
      }
    },
    {
      "cell_type": "code",
      "source": [
        "from scipy.stats import f_oneway\n",
        "# Separando os grupos de 'price' com base nos valores da variável categórica 'waterfront'\n",
        "group1 = df[df['waterfront'] == 0]['price']  # Casas sem vista para a água\n",
        "group2 = df[df['waterfront'] == 1]['price']  # Casas com vista para a água\n",
        "\n",
        "# Realizando a ANOVA entre os grupos\n",
        "anova_result = f_oneway(group1, group2)\n",
        "\n",
        "# Exibindo o resultado da ANOVA\n",
        "print(f\"Estatística F: {anova_result.statistic}, Valor p: {anova_result.pvalue}\")"
      ],
      "metadata": {
        "colab": {
          "base_uri": "https://localhost:8080/"
        },
        "id": "L9t3WftZYRyU",
        "outputId": "9c527763-cd9d-4b7c-9ffb-18e364d02c42"
      },
      "execution_count": 21,
      "outputs": [
        {
          "output_type": "stream",
          "name": "stdout",
          "text": [
            "Estatística F: nan, Valor p: nan\n"
          ]
        },
        {
          "output_type": "stream",
          "name": "stderr",
          "text": [
            "/usr/local/lib/python3.10/dist-packages/scipy/stats/_stats_py.py:4102: DegenerateDataWarning: at least one input has length 0\n",
            "  if _f_oneway_is_too_small(samples):\n"
          ]
        }
      ]
    }
  ]
}