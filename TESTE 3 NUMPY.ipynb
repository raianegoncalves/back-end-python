{
 "cells": [
  {
   "cell_type": "code",
   "execution_count": 1,
   "id": "63946197",
   "metadata": {},
   "outputs": [],
   "source": [
    "import numpy as np"
   ]
  },
  {
   "cell_type": "code",
   "execution_count": 4,
   "id": "4fdd41f3",
   "metadata": {},
   "outputs": [
    {
     "data": {
      "text/plain": [
       "array([False,  True, False,  True, False])"
      ]
     },
     "execution_count": 4,
     "metadata": {},
     "output_type": "execute_result"
    }
   ],
   "source": [
    "arr1 = np.array ([1,2,3,4,5])\n",
    "mask = arr1 % 2 == 0\n",
    "mask"
   ]
  },
  {
   "cell_type": "code",
   "execution_count": 22,
   "id": "ec3da3e6",
   "metadata": {},
   "outputs": [],
   "source": [
    "# Definindo a matriz 3D\n",
    "pessoas_id_idade = np.array([[[1, 22], [2, 21], [3, 27], [4, 26]]])"
   ]
  },
  {
   "cell_type": "code",
   "execution_count": 23,
   "id": "ae84899b",
   "metadata": {},
   "outputs": [
    {
     "name": "stdout",
     "output_type": "stream",
     "text": [
      "Shape da matriz original: (1, 4, 2)\n"
     ]
    }
   ],
   "source": [
    "# Verificar a forma da matriz original\n",
    "print(\"Shape da matriz original:\", pessoas_id_idade.shape)  # Deve mostrar (1, 4, 2)"
   ]
  },
  {
   "cell_type": "code",
   "execution_count": 24,
   "id": "35e80507",
   "metadata": {},
   "outputs": [],
   "source": [
    "# Transformar a matriz 3D para 2D\n",
    "pessoas_id_idade_2d = pessoas_id_idade.reshape(-1, 2)"
   ]
  },
  {
   "cell_type": "code",
   "execution_count": 25,
   "id": "c677afd7",
   "metadata": {},
   "outputs": [
    {
     "name": "stdout",
     "output_type": "stream",
     "text": [
      "Shape da matriz 2D: (4, 2)\n"
     ]
    }
   ],
   "source": [
    "# Verificar a forma da matriz 2D\n",
    "print(\"Shape da matriz 2D:\", pessoas_id_idade_2d.shape)  # Deve mostrar (4, 2)"
   ]
  },
  {
   "cell_type": "code",
   "execution_count": 26,
   "id": "e8da2d28",
   "metadata": {},
   "outputs": [
    {
     "name": "stdout",
     "output_type": "stream",
     "text": [
      "Conteúdo da matriz 2D:\n",
      " [[ 1 22]\n",
      " [ 2 21]\n",
      " [ 3 27]\n",
      " [ 4 26]]\n"
     ]
    }
   ],
   "source": [
    "# Verificar o conteúdo da matriz 2D\n",
    "print(\"Conteúdo da matriz 2D:\\n\", pessoas_id_idade_2d)"
   ]
  },
  {
   "cell_type": "code",
   "execution_count": 27,
   "id": "6de5d6a1",
   "metadata": {},
   "outputs": [],
   "source": [
    "# Criar uma máscara booleana para idades maiores de 21\n",
    "mask_maior21 = pessoas_id_idade_2d[:, 1] > 21"
   ]
  },
  {
   "cell_type": "code",
   "execution_count": 28,
   "id": "c376a6aa",
   "metadata": {},
   "outputs": [
    {
     "name": "stdout",
     "output_type": "stream",
     "text": [
      "Máscara booleana: [ True False  True  True]\n"
     ]
    }
   ],
   "source": [
    "# Verificar a máscara booleana\n",
    "print(\"Máscara booleana:\", mask_maior21)  # Deve mostrar [ True False  True True]"
   ]
  },
  {
   "cell_type": "code",
   "execution_count": 29,
   "id": "3968fe9e",
   "metadata": {},
   "outputs": [],
   "source": [
    "# Filtrar as pessoas maiores de 21\n",
    "pessoas_maiores_21 = pessoas_id_idade_2d[mask_maior21]"
   ]
  },
  {
   "cell_type": "code",
   "execution_count": 30,
   "id": "d7d63d47",
   "metadata": {},
   "outputs": [
    {
     "name": "stdout",
     "output_type": "stream",
     "text": [
      "Pessoas maiores de 21:\n",
      " [[ 1 22]\n",
      " [ 3 27]\n",
      " [ 4 26]]\n"
     ]
    }
   ],
   "source": [
    "# Verificar o resultado do filtro\n",
    "print(\"Pessoas maiores de 21:\\n\", pessoas_maiores_21)"
   ]
  },
  {
   "cell_type": "code",
   "execution_count": 32,
   "id": "c66673d6",
   "metadata": {},
   "outputs": [
    {
     "name": "stdout",
     "output_type": "stream",
     "text": [
      "Índices onde a idade é maior que 21: (array([0, 2, 3], dtype=int64),)\n"
     ]
    }
   ],
   "source": [
    "# Usar np.where para encontrar os índices onde a idade é maior que 21\n",
    "indices_maior21 = np.where(pessoas_id_idade_2d[:, 1] > 21)\n",
    "\n",
    "# Verificar os índices\n",
    "print(\"Índices onde a idade é maior que 21:\", indices_maior21)"
   ]
  },
  {
   "cell_type": "code",
   "execution_count": 33,
   "id": "987e5cb8",
   "metadata": {},
   "outputs": [
    {
     "data": {
      "text/plain": [
       "array([[16, 10,  3, 15],\n",
       "       [14, 23, 17, 27],\n",
       "       [ 6, 19,  3,  1],\n",
       "       [10,  4, 18, 19]])"
      ]
     },
     "execution_count": 33,
     "metadata": {},
     "output_type": "execute_result"
    }
   ],
   "source": [
    "cartela_bingo = np.array ([[16, 10, 3, 15],\n",
    "                         [14, 23, 17, 27],\n",
    "                         [6, 19, 3, 1],\n",
    "                         [10, 4, 18, 19]])\n",
    "cartela_bingo"
   ]
  },
  {
   "cell_type": "code",
   "execution_count": 35,
   "id": "f24f22ca",
   "metadata": {},
   "outputs": [
    {
     "data": {
      "text/plain": [
       "array([['16', '10', 'div3', 'div3'],\n",
       "       ['14', '23', '17', 'div3'],\n",
       "       ['div3', '19', 'div3', '1'],\n",
       "       ['10', '4', 'div3', '19']], dtype='<U11')"
      ]
     },
     "execution_count": 35,
     "metadata": {},
     "output_type": "execute_result"
    }
   ],
   "source": [
    "np.where(cartela_bingo % 3 == 0, \"div3\", cartela_bingo) # quero pegar todos os numeros que sáo divisiveis por 3"
   ]
  },
  {
   "cell_type": "code",
   "execution_count": 38,
   "id": "3b4d9c59",
   "metadata": {},
   "outputs": [
    {
     "data": {
      "text/plain": [
       "array([['1', 'maior idade'],\n",
       "       ['2', '21'],\n",
       "       ['3', 'maior idade'],\n",
       "       ['4', 'maior idade']], dtype='<U11')"
      ]
     },
     "execution_count": 38,
     "metadata": {},
     "output_type": "execute_result"
    }
   ],
   "source": [
    "p = np.where(pessoas_id_idade_2d > 21, \"maior idade\", pessoas_id_idade_2d)\n",
    "p #apontar todos que sáo maiores de idade a partir da frase acima"
   ]
  },
  {
   "cell_type": "code",
   "execution_count": 39,
   "id": "6a30f81a",
   "metadata": {},
   "outputs": [
    {
     "data": {
      "text/plain": [
       "numpy.str_"
      ]
     },
     "execution_count": 39,
     "metadata": {},
     "output_type": "execute_result"
    }
   ],
   "source": [
    "type (p[0,0]) #transformando os que sao maiores de idade de int para string"
   ]
  },
  {
   "cell_type": "code",
   "execution_count": null,
   "id": "9dd0fce3",
   "metadata": {},
   "outputs": [],
   "source": []
  }
 ],
 "metadata": {
  "kernelspec": {
   "display_name": "Python 3 (ipykernel)",
   "language": "python",
   "name": "python3"
  },
  "language_info": {
   "codemirror_mode": {
    "name": "ipython",
    "version": 3
   },
   "file_extension": ".py",
   "mimetype": "text/x-python",
   "name": "python",
   "nbconvert_exporter": "python",
   "pygments_lexer": "ipython3",
   "version": "3.10.9"
  }
 },
 "nbformat": 4,
 "nbformat_minor": 5
}
