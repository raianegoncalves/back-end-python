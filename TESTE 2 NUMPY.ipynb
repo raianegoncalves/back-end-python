{
 "cells": [
  {
   "cell_type": "code",
   "execution_count": 2,
   "id": "7a11a656",
   "metadata": {},
   "outputs": [],
   "source": [
    "import numpy as np"
   ]
  },
  {
   "cell_type": "code",
   "execution_count": 3,
   "id": "0b4e4025",
   "metadata": {},
   "outputs": [
    {
     "data": {
      "text/plain": [
       "4"
      ]
     },
     "execution_count": 3,
     "metadata": {},
     "output_type": "execute_result"
    }
   ],
   "source": [
    "arr = np.array([2,4,6,7,8])\n",
    "arr [1]"
   ]
  },
  {
   "cell_type": "code",
   "execution_count": 4,
   "id": "dcfb33fb",
   "metadata": {},
   "outputs": [
    {
     "data": {
      "text/plain": [
       "6"
      ]
     },
     "execution_count": 4,
     "metadata": {},
     "output_type": "execute_result"
    }
   ],
   "source": [
    "arr [2]"
   ]
  },
  {
   "cell_type": "code",
   "execution_count": 5,
   "id": "b87702a6",
   "metadata": {},
   "outputs": [
    {
     "data": {
      "text/plain": [
       "array([[16, 10,  3, 15],\n",
       "       [14, 23, 17, 27],\n",
       "       [ 6, 19,  3,  1],\n",
       "       [10,  4, 18, 19]])"
      ]
     },
     "execution_count": 5,
     "metadata": {},
     "output_type": "execute_result"
    }
   ],
   "source": [
    "cartela_bingo = np.array ([[16, 10, 3, 15],\n",
    "                         [14, 23, 17, 27],\n",
    "                         [6, 19, 3, 1],\n",
    "                         [10, 4, 18, 19]])\n",
    "cartela_bingo"
   ]
  },
  {
   "cell_type": "code",
   "execution_count": 6,
   "id": "dc2812f8",
   "metadata": {},
   "outputs": [
    {
     "data": {
      "text/plain": [
       "array([[10],\n",
       "       [23],\n",
       "       [19],\n",
       "       [ 4]])"
      ]
     },
     "execution_count": 6,
     "metadata": {},
     "output_type": "execute_result"
    }
   ],
   "source": [
    "#pegar uma coluna inteira\n",
    "cartela_bingo[:, 1].reshape((4,1))"
   ]
  },
  {
   "cell_type": "code",
   "execution_count": 7,
   "id": "ecbe620e",
   "metadata": {},
   "outputs": [
    {
     "data": {
      "text/plain": [
       "array([16, 10,  3, 15])"
      ]
     },
     "execution_count": 7,
     "metadata": {},
     "output_type": "execute_result"
    }
   ],
   "source": [
    "cartela_bingo[0]"
   ]
  },
  {
   "cell_type": "code",
   "execution_count": 8,
   "id": "dc95e5da",
   "metadata": {},
   "outputs": [
    {
     "data": {
      "text/plain": [
       "array([[ 3, 10, 15, 16],\n",
       "       [14, 17, 23, 27],\n",
       "       [ 1,  3,  6, 19],\n",
       "       [ 4, 10, 18, 19]])"
      ]
     },
     "execution_count": 8,
     "metadata": {},
     "output_type": "execute_result"
    }
   ],
   "source": [
    "np.sort(cartela_bingo)"
   ]
  },
  {
   "cell_type": "code",
   "execution_count": 9,
   "id": "43ee570b",
   "metadata": {},
   "outputs": [
    {
     "data": {
      "text/plain": [
       "array([[ 6,  4,  3,  1],\n",
       "       [10, 10,  3, 15],\n",
       "       [14, 19, 17, 19],\n",
       "       [16, 23, 18, 27]])"
      ]
     },
     "execution_count": 9,
     "metadata": {},
     "output_type": "execute_result"
    }
   ],
   "source": [
    "np.sort(cartela_bingo, axis=0) #sortido"
   ]
  },
  {
   "cell_type": "markdown",
   "id": "acaf7392",
   "metadata": {},
   "source": [
    "ID DE ESPECIE, QUANTIDADE DE REPRESENTANTES ENCONTRADOS, PROFUNDEZA, TAMANHO MÉDIO DA ESPÉCIE"
   ]
  },
  {
   "cell_type": "code",
   "execution_count": 10,
   "id": "964ac271",
   "metadata": {},
   "outputs": [
    {
     "data": {
      "text/plain": [
       "array([[747,  89,  33,   5],\n",
       "       [623, 123,  32,  13],\n",
       "       [501,  22,  49,   2],\n",
       "       [116, 101,  42,  10],\n",
       "       [297,  56,  69,  22],\n",
       "       [613,  64,  27,   7],\n",
       "       [295,  84,  29,  14],\n",
       "       [692, 105,  71,  16],\n",
       "       [229, 103,  35,   5],\n",
       "       [372, 124,  70,   1]])"
      ]
     },
     "execution_count": 10,
     "metadata": {},
     "output_type": "execute_result"
    }
   ],
   "source": [
    "especies = np.array ([[747, 89, 33, 5],\n",
    "                     [623, 123, 32, 13],\n",
    "                     [501, 22, 49, 2],\n",
    "                     [116, 101, 42, 10],\n",
    "                     [297, 56, 69, 22], \n",
    "                     [613, 64, 27, 7],\n",
    "                     [295, 84, 29, 14],\n",
    "                     [692, 105, 71, 16],\n",
    "                     [229, 103, 35, 5],\n",
    "                     [372, 124, 70, 1]])\n",
    "especies"
   ]
  },
  {
   "cell_type": "code",
   "execution_count": 11,
   "id": "72215804",
   "metadata": {},
   "outputs": [
    {
     "data": {
      "text/plain": [
       "array([ 89, 123,  22, 101,  56,  64,  84, 105, 103, 124])"
      ]
     },
     "execution_count": 11,
     "metadata": {},
     "output_type": "execute_result"
    }
   ],
   "source": [
    "qtd_especies = especies [:, 1]\n",
    "qtd_especies # selecione a segunda coluna com a qnt de especies encontradas e adicione um array como qtd_especies"
   ]
  },
  {
   "cell_type": "code",
   "execution_count": 12,
   "id": "e17308aa",
   "metadata": {},
   "outputs": [
    {
     "name": "stdout",
     "output_type": "stream",
     "text": [
      "[ 89 123  22]\n"
     ]
    }
   ],
   "source": [
    "print(qtd_especies[0:3]) #de qtd_especies selecione apenas as 3 primeiras quantidades e print"
   ]
  },
  {
   "cell_type": "code",
   "execution_count": 13,
   "id": "1d7fcb84",
   "metadata": {},
   "outputs": [
    {
     "data": {
      "text/plain": [
       "(10, 4)"
      ]
     },
     "execution_count": 13,
     "metadata": {},
     "output_type": "execute_result"
    }
   ],
   "source": [
    "especies.shape"
   ]
  },
  {
   "cell_type": "code",
   "execution_count": 14,
   "id": "0ce885d0",
   "metadata": {},
   "outputs": [
    {
     "data": {
      "text/plain": [
       "array([ 64,  84, 105, 103, 124])"
      ]
     },
     "execution_count": 14,
     "metadata": {},
     "output_type": "execute_result"
    }
   ],
   "source": [
    "qtd_especies[-5:] #printar os 5 ultimos da quantidade de especies, colocar negativo para pegar os ultimos"
   ]
  },
  {
   "cell_type": "code",
   "execution_count": 15,
   "id": "41cddd11",
   "metadata": {},
   "outputs": [
    {
     "data": {
      "text/plain": [
       "array([ 1,  2,  5,  5,  7, 10, 13, 14, 16, 22])"
      ]
     },
     "execution_count": 15,
     "metadata": {},
     "output_type": "execute_result"
    }
   ],
   "source": [
    "#uma array que tenha o tamanho das especies em ordem crescente [:,3] e se for em ordem descrecente (especies[:,3])[::-1]\n",
    "np.sort(especies[:,3])"
   ]
  },
  {
   "cell_type": "code",
   "execution_count": 16,
   "id": "278c3577",
   "metadata": {},
   "outputs": [
    {
     "data": {
      "text/plain": [
       "array([[747,  89,  33,   5],\n",
       "       [623, 123,  32,  13],\n",
       "       [501,  22,  49,   2],\n",
       "       [116, 101,  42,  10],\n",
       "       [297,  56,  69,  22],\n",
       "       [613,  64,  27,   7],\n",
       "       [295,  84,  29,  14],\n",
       "       [692, 105,  71,  16],\n",
       "       [229, 103,  35,   5],\n",
       "       [372, 124,  70,   1]])"
      ]
     },
     "execution_count": 16,
     "metadata": {},
     "output_type": "execute_result"
    }
   ],
   "source": [
    "especies"
   ]
  },
  {
   "cell_type": "code",
   "execution_count": 17,
   "id": "d36b4027",
   "metadata": {},
   "outputs": [
    {
     "data": {
      "text/plain": [
       "array([False, False, False, False,  True, False, False, False, False,\n",
       "       False])"
      ]
     },
     "execution_count": 17,
     "metadata": {},
     "output_type": "execute_result"
    }
   ],
   "source": [
    "#usando um index booleano crie um array que contem os dados da maior especie encontrada, esse valor corresponde ao 22\n",
    "#est[a na quarta coluna o numero 22\n",
    "especies [:, 3] == 22"
   ]
  },
  {
   "cell_type": "code",
   "execution_count": 39,
   "id": "f36f0598",
   "metadata": {},
   "outputs": [
    {
     "data": {
      "text/plain": [
       "array([[297,  56,  69,  22]])"
      ]
     },
     "execution_count": 39,
     "metadata": {},
     "output_type": "execute_result"
    }
   ],
   "source": [
    "# como se fosse um slice da matriz\n",
    "maior_especie = especies[especies [:, 3] == 22]\n",
    "maior_especie"
   ]
  },
  {
   "cell_type": "code",
   "execution_count": 47,
   "id": "b3640783",
   "metadata": {},
   "outputs": [],
   "source": [
    "mask_297 = especies[:, 0] == 297"
   ]
  },
  {
   "cell_type": "code",
   "execution_count": 49,
   "id": "028581d0",
   "metadata": {},
   "outputs": [
    {
     "data": {
      "text/plain": [
       "array([[297,  56,  69,  22]])"
      ]
     },
     "execution_count": 49,
     "metadata": {},
     "output_type": "execute_result"
    }
   ],
   "source": [
    "result = especies[mask_297]\n",
    "result"
   ]
  },
  {
   "cell_type": "code",
   "execution_count": 50,
   "id": "08e2c41f",
   "metadata": {},
   "outputs": [
    {
     "data": {
      "text/plain": [
       "(array([7], dtype=int64),)"
      ]
     },
     "execution_count": 50,
     "metadata": {},
     "output_type": "execute_result"
    }
   ],
   "source": [
    "#usando np.where() faça um array com a linha com dados correspodentes a especie com 105 representantes encontrados.\n",
    "np.where(especies[:, 1] == 105)"
   ]
  },
  {
   "cell_type": "code",
   "execution_count": 51,
   "id": "615c8470",
   "metadata": {},
   "outputs": [
    {
     "data": {
      "text/plain": [
       "array([[692, 105,  71,  16]])"
      ]
     },
     "execution_count": 51,
     "metadata": {},
     "output_type": "execute_result"
    }
   ],
   "source": [
    "especies[np.where(especies[:, 1] == 105)]"
   ]
  },
  {
   "cell_type": "code",
   "execution_count": 52,
   "id": "27e63ec2",
   "metadata": {},
   "outputs": [
    {
     "data": {
      "text/plain": [
       "array(['33', '32', '49', '42', 'Profundo', '27', '29', 'Profundo', '35',\n",
       "       'Profundo'], dtype='<U11')"
      ]
     },
     "execution_count": 52,
     "metadata": {},
     "output_type": "execute_result"
    }
   ],
   "source": [
    "#considere a profundeza em que a especie foi encontrada e substitua esses valores maiores que 60 com \"profundo\"\n",
    "np.where(especies[:, 2] > 60, \"Profundo\", especies [:, 2])"
   ]
  },
  {
   "cell_type": "markdown",
   "id": "ab3cfd89",
   "metadata": {},
   "source": [
    "OUTRA ATIVIDADE SOBRE AGREGADOS DE DADOS"
   ]
  },
  {
   "cell_type": "code",
   "execution_count": 53,
   "id": "db65a548",
   "metadata": {},
   "outputs": [
    {
     "data": {
      "text/plain": [
       "array([[16, 10,  3, 15],\n",
       "       [14, 23, 17, 27],\n",
       "       [ 6, 19,  3,  1],\n",
       "       [10,  4, 18, 19]])"
      ]
     },
     "execution_count": 53,
     "metadata": {},
     "output_type": "execute_result"
    }
   ],
   "source": [
    "cartela_bingo"
   ]
  },
  {
   "cell_type": "code",
   "execution_count": 60,
   "id": "8bd2d58b",
   "metadata": {},
   "outputs": [
    {
     "data": {
      "text/plain": [
       "array([[16, 10,  3, 15],\n",
       "       [14, 23, 17, 27],\n",
       "       [ 6, 19,  3,  1]])"
      ]
     },
     "execution_count": 60,
     "metadata": {},
     "output_type": "execute_result"
    }
   ],
   "source": [
    "cartela_bingo1 = cartela_bingo[:3]\n",
    "cartela_bingo1"
   ]
  },
  {
   "cell_type": "code",
   "execution_count": 61,
   "id": "52d926bb",
   "metadata": {},
   "outputs": [
    {
     "data": {
      "text/plain": [
       "array([[10,  4, 18, 19]])"
      ]
     },
     "execution_count": 61,
     "metadata": {},
     "output_type": "execute_result"
    }
   ],
   "source": [
    "cartela_bingo2 = cartela_bingo[-1:]\n",
    "cartela_bingo2"
   ]
  },
  {
   "cell_type": "code",
   "execution_count": 62,
   "id": "bfcd238c",
   "metadata": {},
   "outputs": [
    {
     "data": {
      "text/plain": [
       "array([[16, 10,  3, 15],\n",
       "       [14, 23, 17, 27],\n",
       "       [ 6, 19,  3,  1],\n",
       "       [10,  4, 18, 19]])"
      ]
     },
     "execution_count": 62,
     "metadata": {},
     "output_type": "execute_result"
    }
   ],
   "source": [
    "np.concatenate((cartela_bingo1, cartela_bingo2))"
   ]
  },
  {
   "cell_type": "code",
   "execution_count": 66,
   "id": "2dd2520d",
   "metadata": {},
   "outputs": [
    {
     "data": {
      "text/plain": [
       "array([[ True,  True,  True,  True],\n",
       "       [ True,  True,  True,  True],\n",
       "       [ True,  True,  True,  True],\n",
       "       [ True,  True,  True,  True]])"
      ]
     },
     "execution_count": 66,
     "metadata": {},
     "output_type": "execute_result"
    }
   ],
   "source": [
    "#TIRAR PROVA\n",
    "cartela_bingo == np.concatenate((cartela_bingo1, cartela_bingo2))"
   ]
  },
  {
   "cell_type": "markdown",
   "id": "755396b9",
   "metadata": {},
   "source": [
    "ATIVIDADE SALA DE ESPERA"
   ]
  },
  {
   "cell_type": "code",
   "execution_count": 67,
   "id": "4666bc65",
   "metadata": {},
   "outputs": [],
   "source": [
    "sala_espera = np.array([['5','30', '1', 'Alice'],\n",
    "                      ['6','29', '1', 'Bob'],\n",
    "                      ['7','35', '3', 'Cristina'],\n",
    "                       ['8','34', '3', 'Luiz']])"
   ]
  },
  {
   "cell_type": "code",
   "execution_count": 68,
   "id": "8387ea77",
   "metadata": {},
   "outputs": [
    {
     "data": {
      "text/plain": [
       "array([['5', '30', '1', 'Alice'],\n",
       "       ['6', '29', '1', 'Bob'],\n",
       "       ['7', '35', '3', 'Cristina']], dtype='<U8')"
      ]
     },
     "execution_count": 68,
     "metadata": {},
     "output_type": "execute_result"
    }
   ],
   "source": [
    "#vamos deletar alguem\n",
    "np.delete(sala_espera, 3, axis=0)"
   ]
  },
  {
   "cell_type": "markdown",
   "id": "13bd06e6",
   "metadata": {},
   "source": [
    "ATIVIDADE COM ESPECIES AINDA"
   ]
  },
  {
   "cell_type": "code",
   "execution_count": 69,
   "id": "c9040e02",
   "metadata": {},
   "outputs": [
    {
     "data": {
      "text/plain": [
       "array([[747,  89,  33,   5],\n",
       "       [623, 123,  32,  13],\n",
       "       [501,  22,  49,   2],\n",
       "       [116, 101,  42,  10],\n",
       "       [297,  56,  69,  22],\n",
       "       [613,  64,  27,   7],\n",
       "       [295,  84,  29,  14],\n",
       "       [692, 105,  71,  16],\n",
       "       [229, 103,  35,   5],\n",
       "       [372, 124,  70,   1]])"
      ]
     },
     "execution_count": 69,
     "metadata": {},
     "output_type": "execute_result"
    }
   ],
   "source": [
    "especies"
   ]
  },
  {
   "cell_type": "code",
   "execution_count": 70,
   "id": "cfad6cb3",
   "metadata": {},
   "outputs": [],
   "source": [
    "# adicione mais 2 especies ao array: [[204, 10, 40, 12], [392, 11, 81, 11]]\n",
    "novas_especies = np.array([[204, 10, 40, 12], [392, 11, 81, 11]])"
   ]
  },
  {
   "cell_type": "code",
   "execution_count": 71,
   "id": "b347a4f0",
   "metadata": {},
   "outputs": [
    {
     "data": {
      "text/plain": [
       "array([[747,  89,  33,   5],\n",
       "       [623, 123,  32,  13],\n",
       "       [501,  22,  49,   2],\n",
       "       [116, 101,  42,  10],\n",
       "       [297,  56,  69,  22],\n",
       "       [613,  64,  27,   7],\n",
       "       [295,  84,  29,  14],\n",
       "       [692, 105,  71,  16],\n",
       "       [229, 103,  35,   5],\n",
       "       [372, 124,  70,   1],\n",
       "       [204,  10,  40,  12],\n",
       "       [392,  11,  81,  11]])"
      ]
     },
     "execution_count": 71,
     "metadata": {},
     "output_type": "execute_result"
    }
   ],
   "source": [
    "np.concatenate((especies, novas_especies))"
   ]
  },
  {
   "cell_type": "code",
   "execution_count": 75,
   "id": "03af9acf",
   "metadata": {},
   "outputs": [
    {
     "data": {
      "text/plain": [
       "(10, 4)"
      ]
     },
     "execution_count": 75,
     "metadata": {},
     "output_type": "execute_result"
    }
   ],
   "source": [
    "#verificar informacoes sobre np.array([0,1,0,0,0,0,1,0,1,1,0])\n",
    "especies.shape"
   ]
  },
  {
   "cell_type": "code",
   "execution_count": 78,
   "id": "3ecf0cde",
   "metadata": {},
   "outputs": [
    {
     "data": {
      "text/plain": [
       "(10,)"
      ]
     },
     "execution_count": 78,
     "metadata": {},
     "output_type": "execute_result"
    }
   ],
   "source": [
    "np.array([0,1,0,0,0,0,1,0,1,1]).shape"
   ]
  },
  {
   "cell_type": "code",
   "execution_count": 80,
   "id": "4ffc65ad",
   "metadata": {},
   "outputs": [
    {
     "data": {
      "text/plain": [
       "array([[0],\n",
       "       [1],\n",
       "       [0],\n",
       "       [0],\n",
       "       [0],\n",
       "       [0],\n",
       "       [1],\n",
       "       [0],\n",
       "       [1],\n",
       "       [1]])"
      ]
     },
     "execution_count": 80,
     "metadata": {},
     "output_type": "execute_result"
    }
   ],
   "source": [
    "#agora vou fazer um reshape\n",
    "ver = np.array([0,1,0,0,0,0,1,0,1,1]).reshape((10,1))\n",
    "ver"
   ]
  },
  {
   "cell_type": "code",
   "execution_count": 82,
   "id": "de5ce9e5",
   "metadata": {},
   "outputs": [
    {
     "data": {
      "text/plain": [
       "array([[747,  89,  33,   5,   0],\n",
       "       [623, 123,  32,  13,   1],\n",
       "       [501,  22,  49,   2,   0],\n",
       "       [116, 101,  42,  10,   0],\n",
       "       [297,  56,  69,  22,   0],\n",
       "       [613,  64,  27,   7,   0],\n",
       "       [295,  84,  29,  14,   1],\n",
       "       [692, 105,  71,  16,   0],\n",
       "       [229, 103,  35,   5,   1],\n",
       "       [372, 124,  70,   1,   1]])"
      ]
     },
     "execution_count": 82,
     "metadata": {},
     "output_type": "execute_result"
    }
   ],
   "source": [
    "#adicione +1 coluna no array original com o numero de especies encontradas com que indica se o animal enxerga ou não: [0,1,0,0,0,0,1,0,1,1,0]\n",
    "\n",
    "np.concatenate((especies, ver), axis=1)"
   ]
  },
  {
   "cell_type": "markdown",
   "id": "fc82240c",
   "metadata": {},
   "source": [
    "SALVAR ARRAY"
   ]
  },
  {
   "cell_type": "code",
   "execution_count": 84,
   "id": "6492c363",
   "metadata": {},
   "outputs": [
    {
     "data": {
      "text/plain": [
       "array([[1, 2, 3],\n",
       "       [4, 5, 6]])"
      ]
     },
     "execution_count": 84,
     "metadata": {},
     "output_type": "execute_result"
    }
   ],
   "source": [
    "arr2d = np.array([[1,2,3], [4,5,6]])\n",
    "arr2d"
   ]
  },
  {
   "cell_type": "code",
   "execution_count": 87,
   "id": "99e8cb62",
   "metadata": {},
   "outputs": [
    {
     "data": {
      "text/plain": [
       "array([[[1, 2, 3],\n",
       "        [4, 5, 6]],\n",
       "\n",
       "       [[1, 2, 3],\n",
       "        [4, 5, 6]]])"
      ]
     },
     "execution_count": 87,
     "metadata": {},
     "output_type": "execute_result"
    }
   ],
   "source": [
    "arr3d = np.array([[[1,2,3], [4,5,6]], [[1,2,3], [4,5,6]]])\n",
    "arr3d"
   ]
  },
  {
   "cell_type": "code",
   "execution_count": 88,
   "id": "5bb8a1dc",
   "metadata": {},
   "outputs": [
    {
     "data": {
      "text/plain": [
       "(2, 2, 3)"
      ]
     },
     "execution_count": 88,
     "metadata": {},
     "output_type": "execute_result"
    }
   ],
   "source": [
    "arr3d.shape"
   ]
  },
  {
   "cell_type": "code",
   "execution_count": 91,
   "id": "4d104c68",
   "metadata": {},
   "outputs": [],
   "source": [
    "#salvar em formato de arquivo de csv\n",
    "np.savetxt('arr2d.csv', arr2d, delimiter=',')"
   ]
  },
  {
   "cell_type": "code",
   "execution_count": 93,
   "id": "ea8843ca",
   "metadata": {},
   "outputs": [],
   "source": [
    "#salvar em formato de arquivo de txt\n",
    "np.savetxt('arr2d', arr2d, delimiter=',')"
   ]
  },
  {
   "cell_type": "code",
   "execution_count": 98,
   "id": "4d298392",
   "metadata": {},
   "outputs": [],
   "source": [
    "#salvar em npy\n",
    "np.save('arr3d.npy', arr3d)"
   ]
  },
  {
   "cell_type": "code",
   "execution_count": 99,
   "id": "06e90d06",
   "metadata": {},
   "outputs": [
    {
     "data": {
      "text/plain": [
       "array([[[1, 2, 3],\n",
       "        [4, 5, 6]],\n",
       "\n",
       "       [[1, 2, 3],\n",
       "        [4, 5, 6]]])"
      ]
     },
     "execution_count": 99,
     "metadata": {},
     "output_type": "execute_result"
    }
   ],
   "source": [
    "#para carregar o arquivo\n",
    "arr_saved_3d = np.load('arr3d.npy')\n",
    "arr_saved_3d"
   ]
  },
  {
   "cell_type": "code",
   "execution_count": 101,
   "id": "9b1120a8",
   "metadata": {},
   "outputs": [
    {
     "data": {
      "text/plain": [
       "(2, 2, 3)"
      ]
     },
     "execution_count": 101,
     "metadata": {},
     "output_type": "execute_result"
    }
   ],
   "source": [
    "arr_saved_3d.shape"
   ]
  },
  {
   "cell_type": "code",
   "execution_count": null,
   "id": "57198b4c",
   "metadata": {},
   "outputs": [],
   "source": []
  }
 ],
 "metadata": {
  "kernelspec": {
   "display_name": "Python 3 (ipykernel)",
   "language": "python",
   "name": "python3"
  },
  "language_info": {
   "codemirror_mode": {
    "name": "ipython",
    "version": 3
   },
   "file_extension": ".py",
   "mimetype": "text/x-python",
   "name": "python",
   "nbconvert_exporter": "python",
   "pygments_lexer": "ipython3",
   "version": "3.10.9"
  }
 },
 "nbformat": 4,
 "nbformat_minor": 5
}
