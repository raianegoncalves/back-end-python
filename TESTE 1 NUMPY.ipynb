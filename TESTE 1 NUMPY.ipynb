{
 "cells": [
  {
   "cell_type": "code",
   "execution_count": 3,
   "id": "b466e471",
   "metadata": {},
   "outputs": [],
   "source": [
    "import numpy as np"
   ]
  },
  {
   "cell_type": "code",
   "execution_count": 4,
   "id": "bc9c97f3",
   "metadata": {},
   "outputs": [],
   "source": [
    "l = [1, 2, 3, 4]\n",
    "arrl = np.array(l)"
   ]
  },
  {
   "cell_type": "code",
   "execution_count": 5,
   "id": "10d529b8",
   "metadata": {},
   "outputs": [
    {
     "data": {
      "text/plain": [
       "array([1, 2, 3, 4])"
      ]
     },
     "execution_count": 5,
     "metadata": {},
     "output_type": "execute_result"
    }
   ],
   "source": [
    "arrl"
   ]
  },
  {
   "cell_type": "code",
   "execution_count": 6,
   "id": "3eacd3fe",
   "metadata": {},
   "outputs": [
    {
     "data": {
      "text/plain": [
       "array([[0., 0.],\n",
       "       [0., 0.],\n",
       "       [0., 0.]])"
      ]
     },
     "execution_count": 6,
     "metadata": {},
     "output_type": "execute_result"
    }
   ],
   "source": [
    "np.zeros((3,2))"
   ]
  },
  {
   "cell_type": "code",
   "execution_count": 7,
   "id": "eb06f2fd",
   "metadata": {},
   "outputs": [
    {
     "data": {
      "text/plain": [
       "[0, 1, 2]"
      ]
     },
     "execution_count": 7,
     "metadata": {},
     "output_type": "execute_result"
    }
   ],
   "source": [
    "list(range(0,3))"
   ]
  },
  {
   "cell_type": "code",
   "execution_count": 8,
   "id": "2311fb21",
   "metadata": {},
   "outputs": [
    {
     "data": {
      "text/plain": [
       "array([ 1,  2,  3,  4,  5,  6,  7,  8,  9, 10])"
      ]
     },
     "execution_count": 8,
     "metadata": {},
     "output_type": "execute_result"
    }
   ],
   "source": [
    "np.arange(1,11)"
   ]
  },
  {
   "cell_type": "code",
   "execution_count": 9,
   "id": "50fc8fd1",
   "metadata": {},
   "outputs": [
    {
     "data": {
      "text/plain": [
       "array([ 1,  2,  3,  4,  5,  6,  7,  8,  9, 10])"
      ]
     },
     "execution_count": 9,
     "metadata": {},
     "output_type": "execute_result"
    }
   ],
   "source": [
    "arr_range = np.arange(1,11)\n",
    "arr_range"
   ]
  },
  {
   "cell_type": "code",
   "execution_count": 10,
   "id": "e8eca515",
   "metadata": {},
   "outputs": [
    {
     "data": {
      "text/plain": [
       "numpy.ndarray"
      ]
     },
     "execution_count": 10,
     "metadata": {},
     "output_type": "execute_result"
    }
   ],
   "source": [
    "type(arr_range)"
   ]
  },
  {
   "cell_type": "code",
   "execution_count": 11,
   "id": "1be3c5e4",
   "metadata": {},
   "outputs": [
    {
     "data": {
      "text/plain": [
       "array([[0.35485215, 0.10138725, 0.60376147],\n",
       "       [0.72959736, 0.55245894, 0.28744034],\n",
       "       [0.73987974, 0.82486994, 0.53155069]])"
      ]
     },
     "execution_count": 11,
     "metadata": {},
     "output_type": "execute_result"
    }
   ],
   "source": [
    "np.random.random((3,3))"
   ]
  },
  {
   "cell_type": "markdown",
   "id": "e3f0fe73",
   "metadata": {},
   "source": [
    "1. CRIE UM ARRAY COM 4 LINHAS E 3 COLUNAS COM VALORES ALEATÓRIOS"
   ]
  },
  {
   "cell_type": "code",
   "execution_count": 12,
   "id": "53becb97",
   "metadata": {},
   "outputs": [
    {
     "data": {
      "text/plain": [
       "array([[0.12127467, 0.87377303, 0.87059052],\n",
       "       [0.2531848 , 0.76861815, 0.26256172],\n",
       "       [0.49070803, 0.82720449, 0.69080179],\n",
       "       [0.09928379, 0.45450507, 0.16673069]])"
      ]
     },
     "execution_count": 12,
     "metadata": {},
     "output_type": "execute_result"
    }
   ],
   "source": [
    "np.random.random((4,3))"
   ]
  },
  {
   "cell_type": "markdown",
   "id": "59b62492",
   "metadata": {},
   "source": [
    "2. CRIE UM ARRAY COM 5 COLUNAS E 10 LINHAS INICIALIZADAS COM ZERO"
   ]
  },
  {
   "cell_type": "code",
   "execution_count": 13,
   "id": "552eb056",
   "metadata": {},
   "outputs": [
    {
     "data": {
      "text/plain": [
       "array([[0., 0., 0., 0., 0.],\n",
       "       [0., 0., 0., 0., 0.],\n",
       "       [0., 0., 0., 0., 0.],\n",
       "       [0., 0., 0., 0., 0.],\n",
       "       [0., 0., 0., 0., 0.],\n",
       "       [0., 0., 0., 0., 0.],\n",
       "       [0., 0., 0., 0., 0.],\n",
       "       [0., 0., 0., 0., 0.],\n",
       "       [0., 0., 0., 0., 0.],\n",
       "       [0., 0., 0., 0., 0.]])"
      ]
     },
     "execution_count": 13,
     "metadata": {},
     "output_type": "execute_result"
    }
   ],
   "source": [
    "np.zeros((10,5))"
   ]
  },
  {
   "cell_type": "markdown",
   "id": "a6d00eaf",
   "metadata": {},
   "source": [
    "3. CRIE UM ARRAY COM VALORES INTEIROS, 3 LINHAS E 5 COLUNAS COM VALORES ALEATÓRIOS"
   ]
  },
  {
   "cell_type": "code",
   "execution_count": 14,
   "id": "a5c33832",
   "metadata": {},
   "outputs": [
    {
     "data": {
      "text/plain": [
       "array([[15, 16, 18, 23, 13],\n",
       "       [24, 23, 28, 28, 18],\n",
       "       [19, 11, 29, 29, 16]])"
      ]
     },
     "execution_count": 14,
     "metadata": {},
     "output_type": "execute_result"
    }
   ],
   "source": [
    "np.random.randint(10,30, size=(3,5))"
   ]
  },
  {
   "cell_type": "markdown",
   "id": "2675b9f0",
   "metadata": {},
   "source": [
    "ARRAY COM 3 DIMENSÕES"
   ]
  },
  {
   "cell_type": "code",
   "execution_count": 18,
   "id": "3dc06c2e",
   "metadata": {},
   "outputs": [],
   "source": [
    "arr1_2d = np.array([[1,2],[3,4]])\n",
    "arr2_2d = np.array([[5,6],[7,8]])\n",
    "arr3_2d = np.array([[9,2],[3,4]])\n",
    "\n",
    "arr_3d = np.array([arr1_2d, arr2_2d, arr3_2d])"
   ]
  },
  {
   "cell_type": "code",
   "execution_count": 16,
   "id": "59c2193a",
   "metadata": {},
   "outputs": [
    {
     "data": {
      "text/plain": [
       "array([[9, 2],\n",
       "       [3, 4]])"
      ]
     },
     "execution_count": 16,
     "metadata": {},
     "output_type": "execute_result"
    }
   ],
   "source": [
    "arr3_2d"
   ]
  },
  {
   "cell_type": "code",
   "execution_count": 19,
   "id": "937bc13c",
   "metadata": {},
   "outputs": [
    {
     "data": {
      "text/plain": [
       "array([[[1, 2],\n",
       "        [3, 4]],\n",
       "\n",
       "       [[5, 6],\n",
       "        [7, 8]],\n",
       "\n",
       "       [[9, 2],\n",
       "        [3, 4]]])"
      ]
     },
     "execution_count": 19,
     "metadata": {},
     "output_type": "execute_result"
    }
   ],
   "source": [
    "arr_3d"
   ]
  },
  {
   "cell_type": "code",
   "execution_count": 24,
   "id": "dd04237e",
   "metadata": {},
   "outputs": [],
   "source": [
    "arr = np.zeros((3,4,2))"
   ]
  },
  {
   "cell_type": "code",
   "execution_count": 26,
   "id": "a3607787",
   "metadata": {},
   "outputs": [
    {
     "data": {
      "text/plain": [
       "(3, 4, 2)"
      ]
     },
     "execution_count": 26,
     "metadata": {},
     "output_type": "execute_result"
    }
   ],
   "source": [
    "arr.shape"
   ]
  },
  {
   "cell_type": "code",
   "execution_count": 27,
   "id": "439f3976",
   "metadata": {},
   "outputs": [
    {
     "data": {
      "text/plain": [
       "array([0., 0., 0., 0., 0., 0., 0., 0., 0., 0., 0., 0., 0., 0., 0., 0., 0.,\n",
       "       0., 0., 0., 0., 0., 0., 0.])"
      ]
     },
     "execution_count": 27,
     "metadata": {},
     "output_type": "execute_result"
    }
   ],
   "source": [
    "arr.flatten()"
   ]
  },
  {
   "cell_type": "markdown",
   "id": "ab5c2370",
   "metadata": {},
   "source": [
    "REDUZA O ARRAY (5,7) A APENAS UMA DIMENSÃO"
   ]
  },
  {
   "cell_type": "code",
   "execution_count": 29,
   "id": "c0fd6142",
   "metadata": {},
   "outputs": [
    {
     "data": {
      "text/plain": [
       "array([0.0152768 , 0.95219532, 0.40076389, 0.58465197, 0.00130569,\n",
       "       0.91088174, 0.46652759, 0.48780761, 0.09437041, 0.36139864,\n",
       "       0.19072107, 0.54499754, 0.34400788, 0.51888417, 0.17969809,\n",
       "       0.7665751 , 0.04223449, 0.96841977, 0.60189561, 0.91265508,\n",
       "       0.99973402, 0.04451794, 0.45102299, 0.76461124, 0.31299277,\n",
       "       0.30460964, 0.08804834, 0.96254932, 0.93277095, 0.34498965,\n",
       "       0.01852904, 0.96027427, 0.31686054, 0.52141363, 0.96388434])"
      ]
     },
     "execution_count": 29,
     "metadata": {},
     "output_type": "execute_result"
    }
   ],
   "source": [
    "a57 = np.random.random((5,7))\n",
    "a57 = a57.flatten()\n",
    "a57"
   ]
  },
  {
   "cell_type": "markdown",
   "id": "382cf8a9",
   "metadata": {},
   "source": [
    "CONSIDERANDO QUE VOCÊ É UMA ORGANIZADORA DE UM JOGO DE BINGO. CRIE UM ARRAY QUE IRÁ REPRESENTAR A CARTILHA DESSES JOGOS DE BINGO. OS NÚMEROS DE SUAS CARTELAS VARIAM ENTRE 1 E 30, E VOCÊ TERÁ 10 PARTICIPANTES. CADA CARTELA TERÁ 12 NÚMEROS (4,3). CRIE UM ARRAY QUE REPRESENTE ESSE JOGO,"
   ]
  },
  {
   "cell_type": "code",
   "execution_count": 32,
   "id": "34eca893",
   "metadata": {},
   "outputs": [
    {
     "data": {
      "text/plain": [
       "array([[[10, 14, 27],\n",
       "        [30, 18,  9],\n",
       "        [10, 15,  1],\n",
       "        [ 7,  6, 10]],\n",
       "\n",
       "       [[12,  8, 30],\n",
       "        [ 5, 25, 11],\n",
       "        [16,  7, 25],\n",
       "        [21, 21, 18]],\n",
       "\n",
       "       [[12,  2, 10],\n",
       "        [23, 15, 16],\n",
       "        [16, 27, 11],\n",
       "        [10, 18, 25]],\n",
       "\n",
       "       [[ 3, 26, 16],\n",
       "        [ 7, 12, 21],\n",
       "        [17,  3,  6],\n",
       "        [24, 29, 23]],\n",
       "\n",
       "       [[ 7, 10, 22],\n",
       "        [ 8, 11,  7],\n",
       "        [ 8, 30, 16],\n",
       "        [20, 16, 20]],\n",
       "\n",
       "       [[17, 13, 29],\n",
       "        [ 9,  1, 14],\n",
       "        [18,  1, 13],\n",
       "        [ 2, 17,  8]],\n",
       "\n",
       "       [[27,  1, 11],\n",
       "        [25, 15, 14],\n",
       "        [10, 18, 29],\n",
       "        [21, 15, 28]],\n",
       "\n",
       "       [[14,  2,  1],\n",
       "        [ 7,  3, 21],\n",
       "        [20, 12, 24],\n",
       "        [ 3, 25,  3]],\n",
       "\n",
       "       [[30,  1, 28],\n",
       "        [15,  8, 29],\n",
       "        [ 1, 23, 29],\n",
       "        [22, 13, 11]],\n",
       "\n",
       "       [[23,  8, 20],\n",
       "        [17, 14, 29],\n",
       "        [ 1, 17, 26],\n",
       "        [18, 15, 24]]])"
      ]
     },
     "execution_count": 32,
     "metadata": {},
     "output_type": "execute_result"
    }
   ],
   "source": [
    "bingo = np.random.randint(1,31, size=(10,4,3)) #usar o np.random para gerar números aleatórios e o randint para definir a quantidade de coluna e tamanho\n",
    "bingo"
   ]
  },
  {
   "cell_type": "markdown",
   "id": "509b34b6",
   "metadata": {},
   "source": [
    "FAÇA UM RESHAPE DAS SUAS CARTELAS PARA QUE HAJA 5 CARTELAS DE 4 LINHAS E 6 COLUNAS"
   ]
  },
  {
   "cell_type": "code",
   "execution_count": 33,
   "id": "4a3b8af4",
   "metadata": {},
   "outputs": [
    {
     "data": {
      "text/plain": [
       "array([[[10, 14, 27, 30, 18,  9],\n",
       "        [10, 15,  1,  7,  6, 10],\n",
       "        [12,  8, 30,  5, 25, 11],\n",
       "        [16,  7, 25, 21, 21, 18]],\n",
       "\n",
       "       [[12,  2, 10, 23, 15, 16],\n",
       "        [16, 27, 11, 10, 18, 25],\n",
       "        [ 3, 26, 16,  7, 12, 21],\n",
       "        [17,  3,  6, 24, 29, 23]],\n",
       "\n",
       "       [[ 7, 10, 22,  8, 11,  7],\n",
       "        [ 8, 30, 16, 20, 16, 20],\n",
       "        [17, 13, 29,  9,  1, 14],\n",
       "        [18,  1, 13,  2, 17,  8]],\n",
       "\n",
       "       [[27,  1, 11, 25, 15, 14],\n",
       "        [10, 18, 29, 21, 15, 28],\n",
       "        [14,  2,  1,  7,  3, 21],\n",
       "        [20, 12, 24,  3, 25,  3]],\n",
       "\n",
       "       [[30,  1, 28, 15,  8, 29],\n",
       "        [ 1, 23, 29, 22, 13, 11],\n",
       "        [23,  8, 20, 17, 14, 29],\n",
       "        [ 1, 17, 26, 18, 15, 24]]])"
      ]
     },
     "execution_count": 33,
     "metadata": {},
     "output_type": "execute_result"
    }
   ],
   "source": [
    "bingo.reshape(5,4,6)"
   ]
  },
  {
   "cell_type": "markdown",
   "id": "5ce1034a",
   "metadata": {},
   "source": [
    "TIPOS DE DADOS EM UM NUMPY ARRAY"
   ]
  },
  {
   "cell_type": "code",
   "execution_count": 34,
   "id": "7562ad68",
   "metadata": {},
   "outputs": [
    {
     "data": {
      "text/plain": [
       "dtype('float64')"
      ]
     },
     "execution_count": 34,
     "metadata": {},
     "output_type": "execute_result"
    }
   ],
   "source": [
    "np.array([5.4,6.7,2.1]).dtype"
   ]
  },
  {
   "cell_type": "code",
   "execution_count": 35,
   "id": "a3f487ca",
   "metadata": {},
   "outputs": [
    {
     "data": {
      "text/plain": [
       "dtype('int32')"
      ]
     },
     "execution_count": 35,
     "metadata": {},
     "output_type": "execute_result"
    }
   ],
   "source": [
    "np.array([5,6,7]).dtype"
   ]
  },
  {
   "cell_type": "code",
   "execution_count": 36,
   "id": "47fa5997",
   "metadata": {},
   "outputs": [
    {
     "data": {
      "text/plain": [
       "dtype('<U12')"
      ]
     },
     "execution_count": 36,
     "metadata": {},
     "output_type": "execute_result"
    }
   ],
   "source": [
    "np.array([\"Hello\", \"Oi\", \"WoMakersCode\"]).dtype"
   ]
  },
  {
   "cell_type": "code",
   "execution_count": 58,
   "id": "3842ea83",
   "metadata": {},
   "outputs": [],
   "source": [
    "x = [3,4,2.1]"
   ]
  },
  {
   "cell_type": "code",
   "execution_count": 59,
   "id": "c9d147db",
   "metadata": {},
   "outputs": [],
   "source": [
    "x = np.array(x)"
   ]
  },
  {
   "cell_type": "code",
   "execution_count": 60,
   "id": "037218e0",
   "metadata": {},
   "outputs": [],
   "source": [
    "x = x.astype(np.int32)"
   ]
  },
  {
   "cell_type": "code",
   "execution_count": 61,
   "id": "2d52b191",
   "metadata": {},
   "outputs": [
    {
     "data": {
      "text/plain": [
       "dtype('int32')"
      ]
     },
     "execution_count": 61,
     "metadata": {},
     "output_type": "execute_result"
    }
   ],
   "source": [
    "np.array([True, 3, False]).dtype"
   ]
  },
  {
   "cell_type": "code",
   "execution_count": 62,
   "id": "7543cd22",
   "metadata": {},
   "outputs": [
    {
     "data": {
      "text/plain": [
       "array([1, 3, 0])"
      ]
     },
     "execution_count": 62,
     "metadata": {},
     "output_type": "execute_result"
    }
   ],
   "source": [
    "np.array([True, 3, False])"
   ]
  },
  {
   "cell_type": "code",
   "execution_count": 63,
   "id": "55df8e65",
   "metadata": {},
   "outputs": [
    {
     "data": {
      "text/plain": [
       "array([1, 3, 0])"
      ]
     },
     "execution_count": 63,
     "metadata": {},
     "output_type": "execute_result"
    }
   ],
   "source": [
    "vf = np.array([True, 3, False])\n",
    "vf"
   ]
  },
  {
   "cell_type": "code",
   "execution_count": 66,
   "id": "e85a4ea8",
   "metadata": {},
   "outputs": [
    {
     "data": {
      "text/plain": [
       "array([ True,  True, False])"
      ]
     },
     "execution_count": 66,
     "metadata": {},
     "output_type": "execute_result"
    }
   ],
   "source": [
    "vf.astype(np.bool8)"
   ]
  },
  {
   "cell_type": "code",
   "execution_count": 67,
   "id": "26fd97b2",
   "metadata": {},
   "outputs": [
    {
     "data": {
      "text/plain": [
       "array([1, 3, 0])"
      ]
     },
     "execution_count": 67,
     "metadata": {},
     "output_type": "execute_result"
    }
   ],
   "source": [
    "vf.astype(np.int32)"
   ]
  },
  {
   "cell_type": "code",
   "execution_count": null,
   "id": "5c2a84a6",
   "metadata": {},
   "outputs": [],
   "source": []
  }
 ],
 "metadata": {
  "kernelspec": {
   "display_name": "Python 3 (ipykernel)",
   "language": "python",
   "name": "python3"
  },
  "language_info": {
   "codemirror_mode": {
    "name": "ipython",
    "version": 3
   },
   "file_extension": ".py",
   "mimetype": "text/x-python",
   "name": "python",
   "nbconvert_exporter": "python",
   "pygments_lexer": "ipython3",
   "version": "3.10.9"
  }
 },
 "nbformat": 4,
 "nbformat_minor": 5
}
