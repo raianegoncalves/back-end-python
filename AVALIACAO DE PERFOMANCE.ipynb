{
 "cells": [
  {
   "cell_type": "markdown",
   "id": "92695734",
   "metadata": {},
   "source": [
    "IMPORTAÇÃO DE BIBLIOTECAS"
   ]
  },
  {
   "cell_type": "code",
   "execution_count": 34,
   "id": "42ad5486",
   "metadata": {},
   "outputs": [],
   "source": [
    "import pandas as pd"
   ]
  },
  {
   "cell_type": "raw",
   "id": "b52d4d86",
   "metadata": {},
   "source": [
    "CRIAÇÃO DE TABELA DE DADOS DE ACORDO COM O PDF"
   ]
  },
  {
   "cell_type": "code",
   "execution_count": 35,
   "id": "43848a75",
   "metadata": {},
   "outputs": [],
   "source": [
    "data = {\n",
    "    \"DIA DA LIGAÇÃO\": [2, 4, 1, 7, 1, 6, 2, 3, 1, 2, 5, 4, 2, 3, 5, 3, 6, 2, 6, 7, 1, 2, 2, 7, 7, 3, 1, 5, 7, 6, 7, 4, 5, 6, 3, 3, 5, 2, 5, 2, 2, 5, 3, 3, 5, 1, 2, 2, 5, 6, 6, 2, 2, 2, 5, 3, 7, 2, 1, 3, 6, 3, 3, 2, 2, 4, 1, 4, 6, 6, 1, 4, 5, 5, 7, 3, 2, 7, 7, 6, 4, 2, 3, 7, 4, 2, 3, 6, 6, 4, 4, 3, 3, 5, 2, 5, 6, 3, 3, 4, 2, 3, 3],\n",
    "   \"ID DO INCIDENTE\": [1, 1, 2, 2, 3, 3, 3, 3, 3, 4, 4, 5, 5, 5, 5, 6, 6, 6, 7, 7, 9, 9, 9, 10, 10, 11, 11, 11, 12, 12, 12, 12, 12, 13, 13, 13, 14, 14, 15, 15, 15, 16, 16, 17, 17, 20, 20, 21, 21, 22, 22, 24, 24, 25, 26, 27, 27, 27, 27, 28, 28, 28, 29, 29, 29, 29, 30, 30, 31, 31, 31, 31, 32, 33, 33, 34, 34, 35, 36, 36, 37, 37, 37, 38, 38, 41, 42, 43, 43, 44, 45, 45, 45, 45, 46, 47, 47, 48, 48, 48, 48, 49, 50]\n",
    "}\n",
    "\n",
    "df = pd.DataFrame(data)"
   ]
  },
  {
   "cell_type": "markdown",
   "id": "5bcb73b0",
   "metadata": {},
   "source": [
    "CALCULAR O NÚMERO DE INCIDENTES ÚNICOS"
   ]
  },
  {
   "cell_type": "code",
   "execution_count": 36,
   "id": "46f1f1f0",
   "metadata": {},
   "outputs": [
    {
     "data": {
      "text/plain": [
       "3     5\n",
       "12    5\n",
       "27    4\n",
       "45    4\n",
       "31    4\n",
       "29    4\n",
       "5     4\n",
       "48    4\n",
       "9     3\n",
       "6     3\n",
       "11    3\n",
       "28    3\n",
       "15    3\n",
       "37    3\n",
       "13    3\n",
       "47    2\n",
       "43    2\n",
       "38    2\n",
       "36    2\n",
       "34    2\n",
       "33    2\n",
       "30    2\n",
       "1     2\n",
       "2     2\n",
       "20    2\n",
       "4     2\n",
       "7     2\n",
       "10    2\n",
       "14    2\n",
       "17    2\n",
       "16    2\n",
       "21    2\n",
       "22    2\n",
       "24    2\n",
       "35    1\n",
       "26    1\n",
       "41    1\n",
       "42    1\n",
       "44    1\n",
       "32    1\n",
       "46    1\n",
       "25    1\n",
       "49    1\n",
       "50    1\n",
       "Name: ID DO INCIDENTE, dtype: int64"
      ]
     },
     "execution_count": 36,
     "metadata": {},
     "output_type": "execute_result"
    }
   ],
   "source": [
    "incidentes_contagem = df['ID DO INCIDENTE'].value_counts()\n",
    "incidentes_contagem"
   ]
  },
  {
   "cell_type": "markdown",
   "id": "adbdb9af",
   "metadata": {},
   "source": [
    "CALCULAR FCR"
   ]
  },
  {
   "cell_type": "code",
   "execution_count": 37,
   "id": "05887c64",
   "metadata": {},
   "outputs": [
    {
     "data": {
      "text/plain": [
       "0.22727272727272727"
      ]
     },
     "execution_count": 37,
     "metadata": {},
     "output_type": "execute_result"
    }
   ],
   "source": [
    "fcr = incidentes_contagem[incidentes_contagem == 1].count() / incidentes_contagem.count()\n",
    "fcr"
   ]
  },
  {
   "cell_type": "markdown",
   "id": "96ded39c",
   "metadata": {},
   "source": [
    "CALCULAR FDR"
   ]
  },
  {
   "cell_type": "code",
   "execution_count": 38,
   "id": "617a1ecd",
   "metadata": {},
   "outputs": [
    {
     "data": {
      "text/plain": [
       "0.3181818181818182"
      ]
     },
     "execution_count": 38,
     "metadata": {},
     "output_type": "execute_result"
    }
   ],
   "source": [
    "fdr = df.groupby('ID DO INCIDENTE').apply(lambda x: x['DIA DA LIGAÇÃO'].nunique() == 1).sum() / incidentes_contagem.count()\n",
    "fdr"
   ]
  },
  {
   "cell_type": "markdown",
   "id": "e0e80e29",
   "metadata": {},
   "source": [
    "CALCULAR SLA"
   ]
  },
  {
   "cell_type": "code",
   "execution_count": 39,
   "id": "bf3da725",
   "metadata": {},
   "outputs": [
    {
     "data": {
      "text/plain": [
       "2.8636363636363638"
      ]
     },
     "execution_count": 39,
     "metadata": {},
     "output_type": "execute_result"
    }
   ],
   "source": [
    "sla = df.groupby('ID DO INCIDENTE').apply(lambda x: x['DIA DA LIGAÇÃO'].max() - x['DIA DA LIGAÇÃO'].min() + 1).mean()\n",
    "sla"
   ]
  },
  {
   "cell_type": "markdown",
   "id": "b32afdc7",
   "metadata": {},
   "source": [
    "RESULTADOS DE CADA CÁLCULO"
   ]
  },
  {
   "cell_type": "code",
   "execution_count": 40,
   "id": "eb45f686",
   "metadata": {},
   "outputs": [
    {
     "name": "stdout",
     "output_type": "stream",
     "text": [
      "FCR: 22.73%\n",
      "FDR: 31.82%\n",
      "SLA médio: 2.86 dias\n"
     ]
    }
   ],
   "source": [
    "print(f\"FCR: {fcr * 100:.2f}%\")\n",
    "print(f\"FDR: {fdr * 100:.2f}%\")\n",
    "print(f\"SLA médio: {sla:.2f} dias\")"
   ]
  },
  {
   "cell_type": "markdown",
   "id": "55ee2dcd",
   "metadata": {},
   "source": [
    "CONTRATAÇÃO DE ATENDENTES"
   ]
  },
  {
   "cell_type": "code",
   "execution_count": 41,
   "id": "176d0925",
   "metadata": {},
   "outputs": [
    {
     "name": "stdout",
     "output_type": "stream",
     "text": [
      "Número de atendentes necessários: 0.98\n"
     ]
    }
   ],
   "source": [
    "total_calls = df.shape[0]\n",
    "average_handling_time = 20 / 60  # 20 minutos em horas\n",
    "total_hours_needed = total_calls * average_handling_time\n",
    "hours_per_attendant = 5 * 7  # 5 horas por dia, 7 dias\n",
    "num_attendants = total_hours_needed / hours_per_attendant\n",
    "\n",
    "print(f\"Número de atendentes necessários: {num_attendants:.2f}\")"
   ]
  },
  {
   "cell_type": "markdown",
   "id": "751adc91",
   "metadata": {},
   "source": [
    "TAXA DE OCUPAÇÃO"
   ]
  },
  {
   "cell_type": "code",
   "execution_count": 42,
   "id": "eca35610",
   "metadata": {},
   "outputs": [
    {
     "name": "stdout",
     "output_type": "stream",
     "text": [
      "Taxa de ocupação: 100.00%\n"
     ]
    }
   ],
   "source": [
    "total_hours_worked = num_attendants * hours_per_attendant\n",
    "occupancy_rate = total_hours_needed / total_hours_worked\n",
    "\n",
    "print(f\"Taxa de ocupação: {occupancy_rate * 100:.2f}%\")"
   ]
  }
 ],
 "metadata": {
  "kernelspec": {
   "display_name": "Python 3 (ipykernel)",
   "language": "python",
   "name": "python3"
  },
  "language_info": {
   "codemirror_mode": {
    "name": "ipython",
    "version": 3
   },
   "file_extension": ".py",
   "mimetype": "text/x-python",
   "name": "python",
   "nbconvert_exporter": "python",
   "pygments_lexer": "ipython3",
   "version": "3.10.9"
  }
 },
 "nbformat": 4,
 "nbformat_minor": 5
}
